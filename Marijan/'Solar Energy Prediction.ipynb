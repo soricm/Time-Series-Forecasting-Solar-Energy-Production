{
 "cells": [
  {
   "cell_type": "code",
   "execution_count": 8,
   "metadata": {
    "executionInfo": {
     "elapsed": 296,
     "status": "ok",
     "timestamp": 1697215450706,
     "user": {
      "displayName": "M Sorić",
      "userId": "01205173299447673254"
     },
     "user_tz": -120
    },
    "id": "WgDeJSgwwiU6",
    "tags": []
   },
   "outputs": [],
   "source": [
    "import os\n",
    "import pandas as pd\n",
    "import numpy as np\n",
    "import matplotlib.pylab as plt\n",
    "import os\n",
    "%matplotlib inline\n",
    "\n",
    "pd.set_option('display.max_rows', 200)\n",
    "pd.set_option('display.max_columns', 200)"
   ]
  },
  {
   "cell_type": "code",
   "execution_count": 9,
   "metadata": {
    "tags": []
   },
   "outputs": [
    {
     "name": "stdout",
     "output_type": "stream",
     "text": [
      "/Users/marijansoric/Documents/GitHub/Solar-Energy-Production-Forecasting/data\n"
     ]
    }
   ],
   "source": [
    "cd ../data"
   ]
  },
  {
   "cell_type": "markdown",
   "metadata": {
    "id": "vzZx00nuwiU_"
   },
   "source": [
    "# Data Import :"
   ]
  },
  {
   "cell_type": "code",
   "execution_count": 49,
   "metadata": {
    "colab": {
     "base_uri": "https://localhost:8080/"
    },
    "executionInfo": {
     "elapsed": 2192,
     "status": "ok",
     "timestamp": 1697215454465,
     "user": {
      "displayName": "M Sorić",
      "userId": "01205173299447673254"
     },
     "user_tz": -120
    },
    "id": "cp2Lu39gwlVq",
    "outputId": "20d9a2e0-2507-4df3-9320-58a7dc58fe7e"
   },
   "outputs": [
    {
     "name": "stdout",
     "output_type": "stream",
     "text": [
      "Drive already mounted at /content/drive; to attempt to forcibly remount, call drive.mount(\"/content/drive\", force_remount=True).\n"
     ]
    }
   ],
   "source": [
    "from google.colab import drive\n",
    "drive.mount('/content/drive')"
   ]
  },
  {
   "cell_type": "code",
   "execution_count": 50,
   "metadata": {
    "colab": {
     "base_uri": "https://localhost:8080/"
    },
    "executionInfo": {
     "elapsed": 316,
     "status": "ok",
     "timestamp": 1697215456360,
     "user": {
      "displayName": "M Sorić",
      "userId": "01205173299447673254"
     },
     "user_tz": -120
    },
    "id": "wDVZIAdjwiVM",
    "outputId": "242fe297-a8e3-419d-eb48-8ff55143b5f7",
    "tags": []
   },
   "outputs": [
    {
     "name": "stdout",
     "output_type": "stream",
     "text": [
      "[Errno 2] No such file or directory: 'drive/MyDrive/Solar-Energy-Prediction-ML-Project-NTNU/data'\n",
      "/content/drive/MyDrive/Solar-Energy-Prediction-ML-Project-NTNU/data\n"
     ]
    }
   ],
   "source": [
    "cd drive/MyDrive/Solar-Energy-Prediction-ML-Project-NTNU/data"
   ]
  },
  {
   "cell_type": "code",
   "execution_count": 10,
   "metadata": {
    "executionInfo": {
     "elapsed": 1288,
     "status": "ok",
     "timestamp": 1697215459132,
     "user": {
      "displayName": "M Sorić",
      "userId": "01205173299447673254"
     },
     "user_tz": -120
    },
    "id": "iVmQyLgIwiVO",
    "tags": []
   },
   "outputs": [],
   "source": [
    "X_train_estimated_a = pd.read_parquet('A/X_train_estimated.parquet')\n",
    "X_train_observed_a = pd.read_parquet('A/X_train_observed.parquet')\n",
    "X_test_estimated_a = pd.read_parquet('A/X_test_estimated.parquet')\n",
    "train_a = pd.read_parquet('A/train_targets.parquet')\n",
    "\n",
    "X_train_estimated_b = pd.read_parquet('B/X_train_estimated.parquet')\n",
    "X_train_observed_b = pd.read_parquet('B/X_train_observed.parquet')\n",
    "X_test_estimated_b = pd.read_parquet('B/X_test_estimated.parquet')\n",
    "train_b = pd.read_parquet('B/train_targets.parquet')\n",
    "\n",
    "X_train_estimated_c = pd.read_parquet('C/X_train_estimated.parquet')\n",
    "X_train_observed_c = pd.read_parquet('C/X_train_observed.parquet')\n",
    "X_test_estimated_c = pd.read_parquet('C/X_test_estimated.parquet')\n",
    "train_c = pd.read_parquet('C/train_targets.parquet')"
   ]
  },
  {
   "cell_type": "code",
   "execution_count": 11,
   "metadata": {
    "executionInfo": {
     "elapsed": 324,
     "status": "ok",
     "timestamp": 1697215461432,
     "user": {
      "displayName": "M Sorić",
      "userId": "01205173299447673254"
     },
     "user_tz": -120
    },
    "id": "sGkPoGodwiVP",
    "tags": []
   },
   "outputs": [],
   "source": [
    "X_train_estimated_a.set_index('date_forecast', inplace = True)\n",
    "X_train_observed_a.set_index('date_forecast', inplace = True)\n",
    "X_test_estimated_a.set_index('date_forecast', inplace = True)\n",
    "\n",
    "X_train_estimated_b.set_index('date_forecast', inplace = True)\n",
    "X_train_observed_b.set_index('date_forecast', inplace = True)\n",
    "X_test_estimated_b.set_index('date_forecast', inplace = True)\n",
    "\n",
    "X_train_estimated_c.set_index('date_forecast', inplace = True)\n",
    "X_train_observed_c.set_index('date_forecast', inplace = True)\n",
    "X_test_estimated_c.set_index('date_forecast', inplace = True)\n",
    "\n",
    "\n",
    "X_train_estimated_a.drop('date_calc', axis=1, inplace=True)\n",
    "X_test_estimated_a.drop('date_calc', axis=1, inplace=True)\n",
    "\n",
    "X_train_estimated_b.drop('date_calc', axis=1, inplace=True)\n",
    "X_test_estimated_b.drop('date_calc', axis=1, inplace=True)\n",
    "\n",
    "X_train_estimated_c.drop('date_calc', axis=1, inplace=True)\n",
    "X_test_estimated_c.drop('date_calc', axis=1, inplace=True)\n",
    "\n",
    "\n",
    "train_a.set_index('time', inplace = True)\n",
    "train_b.set_index('time', inplace = True)\n",
    "train_c.set_index('time', inplace = True)\n",
    "\n",
    "train_a.dropna(inplace = True)\n",
    "train_b.dropna(inplace = True)\n",
    "train_c.dropna(inplace = True)"
   ]
  },
  {
   "cell_type": "code",
   "execution_count": 12,
   "metadata": {
    "executionInfo": {
     "elapsed": 266,
     "status": "ok",
     "timestamp": 1697215464644,
     "user": {
      "displayName": "M Sorić",
      "userId": "01205173299447673254"
     },
     "user_tz": -120
    },
    "id": "kCBFa322wiVQ",
    "tags": []
   },
   "outputs": [],
   "source": [
    "X_train_estimated_a = X_train_estimated_a.loc[X_train_estimated_a.index[::4]]\n",
    "X_train_observed_a = X_train_observed_a.loc[X_train_observed_a.index[::4]]\n",
    "X_test_estimated_a = X_test_estimated_a.loc[X_test_estimated_a.index[::4]]\n",
    "\n",
    "\n",
    "X_train_estimated_b = X_train_estimated_b.loc[X_train_estimated_b.index[::4]]\n",
    "X_train_observed_b = X_train_observed_b.loc[X_train_observed_b.index[::4]]\n",
    "X_test_estimated_b = X_test_estimated_b.loc[X_test_estimated_b.index[::4]]\n",
    "\n",
    "X_train_estimated_c = X_train_estimated_c.loc[X_train_estimated_c.index[::4]]\n",
    "X_train_observed_c = X_train_observed_c.loc[X_train_observed_c.index[::4]]\n",
    "X_test_estimated_c = X_test_estimated_c.loc[X_test_estimated_c.index[::4]]"
   ]
  },
  {
   "cell_type": "code",
   "execution_count": 13,
   "metadata": {
    "executionInfo": {
     "elapsed": 9,
     "status": "ok",
     "timestamp": 1697215467604,
     "user": {
      "displayName": "M Sorić",
      "userId": "01205173299447673254"
     },
     "user_tz": -120
    },
    "id": "10GkfAoNwiVR",
    "tags": []
   },
   "outputs": [],
   "source": [
    "#We match the sizes of X and Y\n",
    "#We keep the measurements from every hour only\n",
    "intersection_index_estimated_a = X_train_estimated_a.index.intersection(train_a.index)\n",
    "intersection_index_estimated_b = X_train_estimated_b.index.intersection(train_b.index)\n",
    "intersection_index_estimated_c = X_train_estimated_c.index.intersection(train_c.index)\n",
    "\n",
    "intersection_index_observed_a = X_train_observed_a.index.intersection(train_a.index)\n",
    "intersection_index_observed_b = X_train_observed_b.index.intersection(train_b.index)\n",
    "intersection_index_observed_c = X_train_observed_c.index.intersection(train_c.index)\n",
    "\n",
    "\n",
    "X_train_estimated_a = X_train_estimated_a.loc[intersection_index_estimated_a]\n",
    "X_train_estimated_b = X_train_estimated_b.loc[intersection_index_estimated_b]\n",
    "X_train_estimated_c = X_train_estimated_c.loc[intersection_index_estimated_c]\n",
    "\n",
    "\n",
    "X_train_observed_a = X_train_observed_a.loc[intersection_index_observed_a]\n",
    "X_train_observed_b = X_train_observed_b.loc[intersection_index_observed_b]\n",
    "X_train_observed_c = X_train_observed_c.loc[intersection_index_observed_c]\n",
    "\n",
    "\n",
    "train_a_estimated = train_a.loc[intersection_index_estimated_a]\n",
    "train_b_estimated = train_b.loc[intersection_index_estimated_b]\n",
    "train_c_estimated = train_c.loc[intersection_index_estimated_c]\n",
    "\n",
    "train_a_observed = train_a.loc[intersection_index_observed_a]\n",
    "train_b_observed = train_b.loc[intersection_index_observed_b]\n",
    "train_c_observed = train_c.loc[intersection_index_observed_c]"
   ]
  },
  {
   "cell_type": "code",
   "execution_count": 14,
   "metadata": {
    "tags": []
   },
   "outputs": [],
   "source": [
    "A_index20 = X_train_observed_a.loc['2020-05-01 00:00:00':'2020-07-03 23:45:00'].index\n",
    "A_index21 = X_train_observed_a.loc['2021-05-01 00:00:00':'2021-07-03 23:45:00'].index\n",
    "A_index22 = X_train_observed_a.loc['2022-05-01 00:00:00':'2022-07-03 23:45:00'].index\n",
    "\n",
    "B_index19 = X_train_observed_b.loc['2019-05-01 00:00:00':'2019-07-03 23:45:00'].index\n",
    "B_index20 = X_train_observed_b.loc['2020-05-01 00:00:00':'2020-07-03 23:45:00'].index\n",
    "B_index21 = X_train_observed_b.loc['2021-05-01 00:00:00':'2021-07-03 23:45:00'].index\n",
    "\n",
    "C_index20 = X_train_observed_c.loc['2020-05-01 00:00:00':'2020-07-03 23:45:00'].index\n",
    "C_index21 = X_train_observed_c.loc['2021-05-01 00:00:00':'2021-07-03 23:45:00'].index\n",
    "\n",
    "A_index_spring = A_index20.union(A_index21).union(A_index22)\n",
    "B_index_spring = B_index19.union(B_index20).union(B_index21)\n",
    "C_index_spring = C_index20.union(C_index21) \n",
    "\n",
    "X_train_observed_a = X_train_observed_a.loc[A_index_spring]\n",
    "X_train_observed_b = X_train_observed_b.loc[B_index_spring]\n",
    "X_train_observed_c = X_train_observed_c.loc[C_index_spring]"
   ]
  },
  {
   "cell_type": "code",
   "execution_count": 15,
   "metadata": {
    "executionInfo": {
     "elapsed": 439,
     "status": "ok",
     "timestamp": 1697215469252,
     "user": {
      "displayName": "M Sorić",
      "userId": "01205173299447673254"
     },
     "user_tz": -120
    },
    "id": "ZnjXbUR6wiVT",
    "tags": []
   },
   "outputs": [],
   "source": [
    "#We change the Time that is a string, to a variable in seconds\n",
    "timestamp_s_observed_a = X_train_observed_a.index.map(pd.Timestamp.timestamp)\n",
    "timestamp_s_observed_b = X_train_observed_b.index.map(pd.Timestamp.timestamp)\n",
    "timestamp_s_observed_c = X_train_observed_c.index.map(pd.Timestamp.timestamp)\n",
    "\n",
    "timestamp_s_estimated_a = X_train_estimated_a.index.map(pd.Timestamp.timestamp)\n",
    "timestamp_s_estimated_b = X_train_estimated_b.index.map(pd.Timestamp.timestamp)\n",
    "timestamp_s_estimated_c = X_train_estimated_c.index.map(pd.Timestamp.timestamp)\n",
    "\n",
    "timestamp_s_test_a = X_test_estimated_a.index.map(pd.Timestamp.timestamp)\n",
    "timestamp_s_test_b = X_test_estimated_b.index.map(pd.Timestamp.timestamp)\n",
    "timestamp_s_test_c = X_test_estimated_c.index.map(pd.Timestamp.timestamp)\n",
    "\n",
    "#Then, we incorporate the periodicity\n",
    "day = 24*60*60\n",
    "year = (365.2425)*day\n",
    "\n",
    "X_train_observed_a['Day sin'] = np.sin(timestamp_s_observed_a * (2 * np.pi / day))\n",
    "X_train_observed_a['Day cos'] = np.cos(timestamp_s_observed_a * (2 * np.pi / day))\n",
    "X_train_observed_a['Year sin'] = np.sin(timestamp_s_observed_a * (2 * np.pi / year))\n",
    "X_train_observed_a['Year cos'] = np.cos(timestamp_s_observed_a * (2 * np.pi / year))\n",
    "\n",
    "X_train_observed_b['Day sin'] = np.sin(timestamp_s_observed_b * (2 * np.pi / day))\n",
    "X_train_observed_b['Day cos'] = np.cos(timestamp_s_observed_b * (2 * np.pi / day))\n",
    "X_train_observed_b['Year sin'] = np.sin(timestamp_s_observed_b * (2 * np.pi / year))\n",
    "X_train_observed_b['Year cos'] = np.cos(timestamp_s_observed_b * (2 * np.pi / year))\n",
    "\n",
    "X_train_observed_c['Day sin'] = np.sin(timestamp_s_observed_c * (2 * np.pi / day))\n",
    "X_train_observed_c['Day cos'] = np.cos(timestamp_s_observed_c * (2 * np.pi / day))\n",
    "X_train_observed_c['Year sin'] = np.sin(timestamp_s_observed_c * (2 * np.pi / year))\n",
    "X_train_observed_c['Year cos'] = np.cos(timestamp_s_observed_c * (2 * np.pi / year))\n",
    "\n",
    "\n",
    "X_train_estimated_a['Day sin'] = np.sin(timestamp_s_estimated_a * (2 * np.pi / day))\n",
    "X_train_estimated_a['Day cos'] = np.cos(timestamp_s_estimated_a * (2 * np.pi / day))\n",
    "X_train_estimated_a['Year sin'] = np.sin(timestamp_s_estimated_a * (2 * np.pi / year))\n",
    "X_train_estimated_a['Year cos'] = np.cos(timestamp_s_estimated_a * (2 * np.pi / year))\n",
    "\n",
    "X_train_estimated_b['Day sin'] = np.sin(timestamp_s_estimated_b * (2 * np.pi / day))\n",
    "X_train_estimated_b['Day cos'] = np.cos(timestamp_s_estimated_b * (2 * np.pi / day))\n",
    "X_train_estimated_b['Year sin'] = np.sin(timestamp_s_estimated_b * (2 * np.pi / year))\n",
    "X_train_estimated_b['Year cos'] = np.cos(timestamp_s_estimated_b * (2 * np.pi / year))\n",
    "\n",
    "X_train_estimated_c['Day sin'] = np.sin(timestamp_s_estimated_c * (2 * np.pi / day))\n",
    "X_train_estimated_c['Day cos'] = np.cos(timestamp_s_estimated_c * (2 * np.pi / day))\n",
    "X_train_estimated_c['Year sin'] = np.sin(timestamp_s_estimated_c * (2 * np.pi / year))\n",
    "X_train_estimated_c['Year cos'] = np.cos(timestamp_s_estimated_c * (2 * np.pi / year))\n",
    "\n",
    "\n",
    "X_test_estimated_a['Day sin'] = np.sin(timestamp_s_test_a * (2 * np.pi / day))\n",
    "X_test_estimated_a['Day cos'] = np.cos(timestamp_s_test_a * (2 * np.pi / day))\n",
    "X_test_estimated_a['Year sin'] = np.sin(timestamp_s_test_a * (2 * np.pi / year))\n",
    "X_test_estimated_a['Year cos'] = np.cos(timestamp_s_test_a * (2 * np.pi / year))\n",
    "\n",
    "X_test_estimated_b['Day sin'] = np.sin(timestamp_s_test_b * (2 * np.pi / day))\n",
    "X_test_estimated_b['Day cos'] = np.cos(timestamp_s_test_b * (2 * np.pi / day))\n",
    "X_test_estimated_b['Year sin'] = np.sin(timestamp_s_test_b * (2 * np.pi / year))\n",
    "X_test_estimated_b['Year cos'] = np.cos(timestamp_s_test_b * (2 * np.pi / year))\n",
    "\n",
    "X_test_estimated_c['Day sin'] = np.sin(timestamp_s_test_c * (2 * np.pi / day))\n",
    "X_test_estimated_c['Day cos'] = np.cos(timestamp_s_test_c * (2 * np.pi / day))\n",
    "X_test_estimated_c['Year sin'] = np.sin(timestamp_s_test_c * (2 * np.pi / year))\n",
    "X_test_estimated_c['Year cos'] = np.cos(timestamp_s_test_c * (2 * np.pi / year))\n"
   ]
  },
  {
   "cell_type": "code",
   "execution_count": 16,
   "metadata": {
    "executionInfo": {
     "elapsed": 455,
     "status": "ok",
     "timestamp": 1697215472880,
     "user": {
      "displayName": "M Sorić",
      "userId": "01205173299447673254"
     },
     "user_tz": -120
    },
    "id": "gCMDoSgKwiVX",
    "tags": []
   },
   "outputs": [],
   "source": [
    "#We change the sun_azimuth variable, because an angle in degree is not really comprehensible for the machine (0 and 360 should be the same)\n",
    "#therefore, we introduce the sinus and cosinus features\n",
    "X_train_observed_a['sun_azimuth_cos:'] = np.cos(X_train_observed_a['sun_azimuth:d'])\n",
    "X_train_observed_a['sun_azimuth_sin:'] = np.sin(X_train_observed_a['sun_azimuth:d'])\n",
    "X_train_estimated_a['sun_azimuth_cos:'] = np.cos(X_train_estimated_a['sun_azimuth:d'])\n",
    "X_train_estimated_a['sun_azimuth_sin:'] = np.sin(X_train_estimated_a['sun_azimuth:d'])\n",
    "X_test_estimated_a['sun_azimuth_cos:'] = np.cos(X_test_estimated_a['sun_azimuth:d'])\n",
    "X_test_estimated_a['sun_azimuth_sin:'] = np.sin(X_test_estimated_a['sun_azimuth:d'])\n",
    "X_train_observed_a.drop(['sun_azimuth:d'], axis = 1, inplace = True)\n",
    "X_train_estimated_a.drop(['sun_azimuth:d'], axis = 1, inplace = True)\n",
    "X_test_estimated_a.drop(['sun_azimuth:d'], axis = 1, inplace = True)\n",
    "\n",
    "\n",
    "X_train_observed_b['sun_azimuth_cos:'] = np.cos(X_train_observed_b['sun_azimuth:d'])\n",
    "X_train_observed_b['sun_azimuth_sin:'] = np.sin(X_train_observed_b['sun_azimuth:d'])\n",
    "X_train_estimated_b['sun_azimuth_cos:'] = np.cos(X_train_estimated_b['sun_azimuth:d'])\n",
    "X_train_estimated_b['sun_azimuth_sin:'] = np.sin(X_train_estimated_b['sun_azimuth:d'])\n",
    "X_test_estimated_b['sun_azimuth_cos:'] = np.cos(X_test_estimated_b['sun_azimuth:d'])\n",
    "X_test_estimated_b['sun_azimuth_sin:'] = np.sin(X_test_estimated_b['sun_azimuth:d'])\n",
    "X_train_observed_b.drop(['sun_azimuth:d'], axis = 1, inplace = True)\n",
    "X_train_estimated_b.drop(['sun_azimuth:d'], axis = 1, inplace = True)\n",
    "X_test_estimated_b.drop(['sun_azimuth:d'], axis = 1, inplace = True)\n",
    "\n",
    "X_train_observed_c['sun_azimuth_cos:'] = np.cos(X_train_observed_c['sun_azimuth:d'])\n",
    "X_train_observed_c['sun_azimuth_sin:'] = np.sin(X_train_observed_c['sun_azimuth:d'])\n",
    "X_train_estimated_c['sun_azimuth_cos:'] = np.cos(X_train_estimated_c['sun_azimuth:d'])\n",
    "X_train_estimated_c['sun_azimuth_sin:'] = np.sin(X_train_estimated_c['sun_azimuth:d'])\n",
    "X_test_estimated_c['sun_azimuth_cos:'] = np.cos(X_test_estimated_c['sun_azimuth:d'])\n",
    "X_test_estimated_c['sun_azimuth_sin:'] = np.sin(X_test_estimated_c['sun_azimuth:d'])\n",
    "X_train_observed_c.drop(['sun_azimuth:d'], axis = 1, inplace = True)\n",
    "X_train_estimated_c.drop(['sun_azimuth:d'], axis = 1, inplace = True)\n",
    "X_test_estimated_c.drop(['sun_azimuth:d'], axis = 1, inplace = True)"
   ]
  },
  {
   "cell_type": "code",
   "execution_count": 17,
   "metadata": {
    "colab": {
     "base_uri": "https://localhost:8080/"
    },
    "executionInfo": {
     "elapsed": 339,
     "status": "ok",
     "timestamp": 1697215475079,
     "user": {
      "displayName": "M Sorić",
      "userId": "01205173299447673254"
     },
     "user_tz": -120
    },
    "id": "NIiP-lxswiVY",
    "outputId": "f3e80336-3374-4c18-ced5-012ae3425128",
    "tags": []
   },
   "outputs": [
    {
     "data": {
      "text/plain": [
       "Index(['absolute_humidity_2m:gm3', 'air_density_2m:kgm3',\n",
       "       'ceiling_height_agl:m', 'clear_sky_energy_1h:J', 'clear_sky_rad:W',\n",
       "       'cloud_base_agl:m', 'dew_or_rime:idx', 'dew_point_2m:K',\n",
       "       'diffuse_rad:W', 'diffuse_rad_1h:J', 'direct_rad:W', 'direct_rad_1h:J',\n",
       "       'effective_cloud_cover:p', 'elevation:m', 'fresh_snow_12h:cm',\n",
       "       'fresh_snow_1h:cm', 'fresh_snow_24h:cm', 'fresh_snow_3h:cm',\n",
       "       'fresh_snow_6h:cm', 'is_day:idx', 'is_in_shadow:idx',\n",
       "       'msl_pressure:hPa', 'precip_5min:mm', 'precip_type_5min:idx',\n",
       "       'pressure_100m:hPa', 'pressure_50m:hPa', 'prob_rime:p',\n",
       "       'rain_water:kgm2', 'relative_humidity_1000hPa:p', 'sfc_pressure:hPa',\n",
       "       'snow_density:kgm3', 'snow_depth:cm', 'snow_drift:idx',\n",
       "       'snow_melt_10min:mm', 'snow_water:kgm2', 'sun_elevation:d',\n",
       "       'super_cooled_liquid_water:kgm2', 't_1000hPa:K', 'total_cloud_cover:p',\n",
       "       'visibility:m', 'wind_speed_10m:ms', 'wind_speed_u_10m:ms',\n",
       "       'wind_speed_v_10m:ms', 'wind_speed_w_1000hPa:ms', 'Day sin', 'Day cos',\n",
       "       'Year sin', 'Year cos', 'sun_azimuth_cos:', 'sun_azimuth_sin:'],\n",
       "      dtype='object')"
      ]
     },
     "execution_count": 17,
     "metadata": {},
     "output_type": "execute_result"
    }
   ],
   "source": [
    "X_train_observed_a.columns"
   ]
  },
  {
   "cell_type": "code",
   "execution_count": 18,
   "metadata": {
    "executionInfo": {
     "elapsed": 267,
     "status": "ok",
     "timestamp": 1697215477613,
     "user": {
      "displayName": "M Sorić",
      "userId": "01205173299447673254"
     },
     "user_tz": -120
    },
    "id": "Ou2SihJ_wiVZ",
    "tags": []
   },
   "outputs": [],
   "source": [
    "to_square = [ 'clear_sky_rad:W',\n",
    "       'cloud_base_agl:m',\n",
    " 'dew_point_2m:K',\n",
    "       'diffuse_rad:W',\n",
    " 'direct_rad:W',\n",
    "       'effective_cloud_cover:p',\n",
    "       'fresh_snow_6h:cm',\n",
    "       'msl_pressure:hPa',\n",
    " 'precip_5min:mm',\n",
    " 'pressure_50m:hPa',\n",
    "       'rain_water:kgm2',\n",
    " 'sfc_pressure:hPa',\n",
    " 't_1000hPa:K',\n",
    " 'wind_speed_10m:ms']"
   ]
  },
  {
   "cell_type": "code",
   "execution_count": 19,
   "metadata": {
    "executionInfo": {
     "elapsed": 487,
     "status": "ok",
     "timestamp": 1697215479596,
     "user": {
      "displayName": "M Sorić",
      "userId": "01205173299447673254"
     },
     "user_tz": -120
    },
    "id": "9GWneYGVwiVa",
    "tags": []
   },
   "outputs": [],
   "source": [
    "for feature in to_square:\n",
    "    X_train_observed_a[f'{feature}^2'] = X_train_observed_a[feature].apply(lambda x: x**2)\n",
    "    X_train_observed_b[f'{feature}^2'] = X_train_observed_b[feature].apply(lambda x: x**2)\n",
    "    X_train_observed_c[f'{feature}^2'] = X_train_observed_c[feature].apply(lambda x: x**2)"
   ]
  },
  {
   "cell_type": "code",
   "execution_count": 20,
   "metadata": {
    "tags": []
   },
   "outputs": [],
   "source": [
    "train_a_observed = train_a_observed.loc[X_train_observed_a.index.intersection(train_a_observed.index)]\n",
    "train_b_observed = train_b_observed.loc[X_train_observed_b.index.intersection(train_b_observed.index)]\n",
    "train_c_observed = train_c_observed.loc[X_train_observed_c.index.intersection(train_c_observed.index)]"
   ]
  },
  {
   "cell_type": "code",
   "execution_count": 21,
   "metadata": {
    "executionInfo": {
     "elapsed": 5,
     "status": "ok",
     "timestamp": 1697215480917,
     "user": {
      "displayName": "M Sorić",
      "userId": "01205173299447673254"
     },
     "user_tz": -120
    },
    "id": "oqTAli6CwiVa",
    "tags": []
   },
   "outputs": [],
   "source": [
    "X_train_observed_a = pd.concat([X_train_observed_a, train_a_observed], axis = 1)\n",
    "X_train_observed_b = pd.concat([X_train_observed_b, train_b_observed], axis = 1)\n",
    "X_train_observed_c = pd.concat([X_train_observed_c, train_c_observed], axis = 1)"
   ]
  },
  {
   "cell_type": "code",
   "execution_count": 22,
   "metadata": {
    "executionInfo": {
     "elapsed": 14,
     "status": "ok",
     "timestamp": 1697215482715,
     "user": {
      "displayName": "M Sorić",
      "userId": "01205173299447673254"
     },
     "user_tz": -120
    },
    "id": "TfO8w816wiVb",
    "tags": []
   },
   "outputs": [],
   "source": [
    "X_train_a = X_train_observed_a\n",
    "X_train_b = X_train_observed_b\n",
    "X_train_c = X_train_observed_c"
   ]
  },
  {
   "cell_type": "markdown",
   "metadata": {
    "id": "jSMIuJYgwiVi"
   },
   "source": [
    "## H2O"
   ]
  },
  {
   "cell_type": "code",
   "execution_count": null,
   "metadata": {
    "id": "P259vW7EwiVk"
   },
   "outputs": [],
   "source": []
  },
  {
   "cell_type": "code",
   "execution_count": 23,
   "metadata": {
    "colab": {
     "base_uri": "https://localhost:8080/",
     "height": 385
    },
    "executionInfo": {
     "elapsed": 20,
     "status": "ok",
     "timestamp": 1697215484741,
     "user": {
      "displayName": "M Sorić",
      "userId": "01205173299447673254"
     },
     "user_tz": -120
    },
    "id": "I1djJYRKwiVl",
    "outputId": "d3bbbb2c-2b60-4a5b-9ada-9fd709104354",
    "tags": []
   },
   "outputs": [
    {
     "name": "stdout",
     "output_type": "stream",
     "text": [
      "Checking whether there is an H2O instance running at http://localhost:54321..... not found.\n"
     ]
    },
    {
     "ename": "H2OStartupError",
     "evalue": "Cannot start local server: h2o.jar not found. Paths searched:\n    /Users/marijansoric/opt/anaconda3/lib/python3.9/site-packages/h2o/backend/bin/h2o.jar\n    /Users/marijansoric/opt/anaconda3/h2o_jar/h2o.jar\n    /usr/local/h2o_jar/h2o.jar\n    /Users/marijansoric/opt/anaconda3/local/h2o_jar/h2o.jar\n    /Users/marijansoric/.local/h2o_jar/h2o.jar\n    /Users/marijansoric/opt/anaconda3/h2o_jar/h2o.jar\n",
     "output_type": "error",
     "traceback": [
      "\u001b[0;31m---------------------------------------------------------------------------\u001b[0m",
      "\u001b[0;31mH2OConnectionError\u001b[0m                        Traceback (most recent call last)",
      "File \u001b[0;32m~/opt/anaconda3/lib/python3.9/site-packages/h2o/h2o.py:270\u001b[0m, in \u001b[0;36minit\u001b[0;34m(url, ip, port, name, https, cacert, insecure, username, password, cookies, proxy, start_h2o, nthreads, ice_root, log_dir, log_level, max_log_file_size, enable_assertions, max_mem_size, min_mem_size, strict_version_check, ignore_config, extra_classpath, jvm_custom_args, bind_to_localhost, **kwargs)\u001b[0m\n\u001b[1;32m    269\u001b[0m \u001b[38;5;28;01mtry\u001b[39;00m:\n\u001b[0;32m--> 270\u001b[0m     h2oconn \u001b[38;5;241m=\u001b[39m \u001b[43mH2OConnection\u001b[49m\u001b[38;5;241;43m.\u001b[39;49m\u001b[43mopen\u001b[49m\u001b[43m(\u001b[49m\u001b[43murl\u001b[49m\u001b[38;5;241;43m=\u001b[39;49m\u001b[43murl\u001b[49m\u001b[43m,\u001b[49m\u001b[43m \u001b[49m\u001b[43mip\u001b[49m\u001b[38;5;241;43m=\u001b[39;49m\u001b[43mip\u001b[49m\u001b[43m,\u001b[49m\u001b[43m \u001b[49m\u001b[43mport\u001b[49m\u001b[38;5;241;43m=\u001b[39;49m\u001b[43mport\u001b[49m\u001b[43m,\u001b[49m\u001b[43m \u001b[49m\u001b[43mname\u001b[49m\u001b[38;5;241;43m=\u001b[39;49m\u001b[43mname\u001b[49m\u001b[43m,\u001b[49m\u001b[43m \u001b[49m\u001b[43mhttps\u001b[49m\u001b[38;5;241;43m=\u001b[39;49m\u001b[43mhttps\u001b[49m\u001b[43m,\u001b[49m\n\u001b[1;32m    271\u001b[0m \u001b[43m                                 \u001b[49m\u001b[43mverify_ssl_certificates\u001b[49m\u001b[38;5;241;43m=\u001b[39;49m\u001b[43mverify_ssl_certificates\u001b[49m\u001b[43m,\u001b[49m\u001b[43m \u001b[49m\u001b[43mcacert\u001b[49m\u001b[38;5;241;43m=\u001b[39;49m\u001b[43mcacert\u001b[49m\u001b[43m,\u001b[49m\n\u001b[1;32m    272\u001b[0m \u001b[43m                                 \u001b[49m\u001b[43mauth\u001b[49m\u001b[38;5;241;43m=\u001b[39;49m\u001b[43mauth\u001b[49m\u001b[43m,\u001b[49m\u001b[43m \u001b[49m\u001b[43mproxy\u001b[49m\u001b[38;5;241;43m=\u001b[39;49m\u001b[43mproxy\u001b[49m\u001b[43m,\u001b[49m\u001b[43m \u001b[49m\u001b[43mcookies\u001b[49m\u001b[38;5;241;43m=\u001b[39;49m\u001b[43mcookies\u001b[49m\u001b[43m,\u001b[49m\u001b[43m \u001b[49m\u001b[43mverbose\u001b[49m\u001b[38;5;241;43m=\u001b[39;49m\u001b[38;5;28;43;01mTrue\u001b[39;49;00m\u001b[43m,\u001b[49m\n\u001b[1;32m    273\u001b[0m \u001b[43m                                 \u001b[49m\u001b[43mmsgs\u001b[49m\u001b[38;5;241;43m=\u001b[39;49m\u001b[43m(\u001b[49m\u001b[38;5;124;43m\"\u001b[39;49m\u001b[38;5;124;43mChecking whether there is an H2O instance running at \u001b[39;49m\u001b[38;5;132;43;01m{url}\u001b[39;49;00m\u001b[38;5;124;43m\"\u001b[39;49m\u001b[43m,\u001b[49m\n\u001b[1;32m    274\u001b[0m \u001b[43m                                       \u001b[49m\u001b[38;5;124;43m\"\u001b[39;49m\u001b[38;5;124;43mconnected.\u001b[39;49m\u001b[38;5;124;43m\"\u001b[39;49m\u001b[43m,\u001b[49m\u001b[43m \u001b[49m\u001b[38;5;124;43m\"\u001b[39;49m\u001b[38;5;124;43mnot found.\u001b[39;49m\u001b[38;5;124;43m\"\u001b[39;49m\u001b[43m)\u001b[49m\u001b[43m,\u001b[49m\n\u001b[1;32m    275\u001b[0m \u001b[43m                                 \u001b[49m\u001b[43mstrict_version_check\u001b[49m\u001b[38;5;241;43m=\u001b[39;49m\u001b[43msvc\u001b[49m\u001b[43m)\u001b[49m\n\u001b[1;32m    276\u001b[0m \u001b[38;5;28;01mexcept\u001b[39;00m H2OConnectionError:\n\u001b[1;32m    277\u001b[0m     \u001b[38;5;66;03m# Backward compatibility: in init() port parameter really meant \"baseport\" when starting a local server...\u001b[39;00m\n",
      "File \u001b[0;32m~/opt/anaconda3/lib/python3.9/site-packages/h2o/backend/connection.py:406\u001b[0m, in \u001b[0;36mH2OConnection.open\u001b[0;34m(server, url, ip, port, name, https, auth, verify_ssl_certificates, cacert, proxy, cookies, verbose, msgs, strict_version_check)\u001b[0m\n\u001b[1;32m    405\u001b[0m conn\u001b[38;5;241m.\u001b[39m_timeout \u001b[38;5;241m=\u001b[39m \u001b[38;5;241m3.0\u001b[39m\n\u001b[0;32m--> 406\u001b[0m conn\u001b[38;5;241m.\u001b[39m_cluster \u001b[38;5;241m=\u001b[39m \u001b[43mconn\u001b[49m\u001b[38;5;241;43m.\u001b[39;49m\u001b[43m_test_connection\u001b[49m\u001b[43m(\u001b[49m\u001b[43mretries\u001b[49m\u001b[43m,\u001b[49m\u001b[43m \u001b[49m\u001b[43mmessages\u001b[49m\u001b[38;5;241;43m=\u001b[39;49m\u001b[43mmsgs\u001b[49m\u001b[43m)\u001b[49m\n\u001b[1;32m    407\u001b[0m \u001b[38;5;66;03m# If a server is unable to respond within 1s, it should be considered a bug. However we disable this\u001b[39;00m\n\u001b[1;32m    408\u001b[0m \u001b[38;5;66;03m# setting for now, for no good reason other than to ignore all those bugs :(\u001b[39;00m\n",
      "File \u001b[0;32m~/opt/anaconda3/lib/python3.9/site-packages/h2o/backend/connection.py:713\u001b[0m, in \u001b[0;36mH2OConnection._test_connection\u001b[0;34m(self, max_retries, messages)\u001b[0m\n\u001b[1;32m    712\u001b[0m \u001b[38;5;28;01melse\u001b[39;00m:\n\u001b[0;32m--> 713\u001b[0m     \u001b[38;5;28;01mraise\u001b[39;00m H2OConnectionError(\u001b[38;5;124m\"\u001b[39m\u001b[38;5;124mCould not establish link to the H2O cloud \u001b[39m\u001b[38;5;132;01m%s\u001b[39;00m\u001b[38;5;124m after \u001b[39m\u001b[38;5;132;01m%d\u001b[39;00m\u001b[38;5;124m retries\u001b[39m\u001b[38;5;130;01m\\n\u001b[39;00m\u001b[38;5;132;01m%s\u001b[39;00m\u001b[38;5;124m\"\u001b[39m\n\u001b[1;32m    714\u001b[0m                              \u001b[38;5;241m%\u001b[39m (\u001b[38;5;28mself\u001b[39m\u001b[38;5;241m.\u001b[39m_base_url, max_retries, \u001b[38;5;124m\"\u001b[39m\u001b[38;5;130;01m\\n\u001b[39;00m\u001b[38;5;124m\"\u001b[39m\u001b[38;5;241m.\u001b[39mjoin(errors)))\n",
      "\u001b[0;31mH2OConnectionError\u001b[0m: Could not establish link to the H2O cloud http://localhost:54321 after 5 retries\n[00:57.69] H2OConnectionError: Unexpected HTTP error: HTTPConnectionPool(host='localhost', port=54321): Max retries exceeded with url: /3/Metadata/schemas/CloudV3 (Caused by NewConnectionError('<urllib3.connection.HTTPConnection object at 0x7fb1a6a81e50>: Failed to establish a new connection: [Errno 61] Connection refused'))\n[00:57.91] H2OConnectionError: Unexpected HTTP error: HTTPConnectionPool(host='localhost', port=54321): Max retries exceeded with url: /3/Metadata/schemas/CloudV3 (Caused by NewConnectionError('<urllib3.connection.HTTPConnection object at 0x7fb1a71bb5b0>: Failed to establish a new connection: [Errno 61] Connection refused'))\n[00:58.12] H2OConnectionError: Unexpected HTTP error: HTTPConnectionPool(host='localhost', port=54321): Max retries exceeded with url: /3/Metadata/schemas/CloudV3 (Caused by NewConnectionError('<urllib3.connection.HTTPConnection object at 0x7fb1a71bbf40>: Failed to establish a new connection: [Errno 61] Connection refused'))\n[00:58.33] H2OConnectionError: Unexpected HTTP error: HTTPConnectionPool(host='localhost', port=54321): Max retries exceeded with url: /3/Metadata/schemas/CloudV3 (Caused by NewConnectionError('<urllib3.connection.HTTPConnection object at 0x7fb1a71c7850>: Failed to establish a new connection: [Errno 61] Connection refused'))\n[00:58.55] H2OConnectionError: Unexpected HTTP error: HTTPConnectionPool(host='localhost', port=54321): Max retries exceeded with url: /3/Metadata/schemas/CloudV3 (Caused by NewConnectionError('<urllib3.connection.HTTPConnection object at 0x7fb1a71d01c0>: Failed to establish a new connection: [Errno 61] Connection refused'))",
      "\nDuring handling of the above exception, another exception occurred:\n",
      "\u001b[0;31mH2OStartupError\u001b[0m                           Traceback (most recent call last)",
      "Cell \u001b[0;32mIn[23], line 4\u001b[0m\n\u001b[1;32m      2\u001b[0m \u001b[38;5;28;01mimport\u001b[39;00m \u001b[38;5;21;01mh2o\u001b[39;00m\n\u001b[1;32m      3\u001b[0m \u001b[38;5;28;01mfrom\u001b[39;00m \u001b[38;5;21;01mh2o\u001b[39;00m\u001b[38;5;21;01m.\u001b[39;00m\u001b[38;5;21;01mautoml\u001b[39;00m \u001b[38;5;28;01mimport\u001b[39;00m H2OAutoML\n\u001b[0;32m----> 4\u001b[0m \u001b[43mh2o\u001b[49m\u001b[38;5;241;43m.\u001b[39;49m\u001b[43minit\u001b[49m\u001b[43m(\u001b[49m\u001b[43m)\u001b[49m\n",
      "File \u001b[0;32m~/opt/anaconda3/lib/python3.9/site-packages/h2o/h2o.py:287\u001b[0m, in \u001b[0;36minit\u001b[0;34m(url, ip, port, name, https, cacert, insecure, username, password, cookies, proxy, start_h2o, nthreads, ice_root, log_dir, log_level, max_log_file_size, enable_assertions, max_mem_size, min_mem_size, strict_version_check, ignore_config, extra_classpath, jvm_custom_args, bind_to_localhost, **kwargs)\u001b[0m\n\u001b[1;32m    283\u001b[0m     \u001b[38;5;28;01mif\u001b[39;00m https:\n\u001b[1;32m    284\u001b[0m         \u001b[38;5;28;01mraise\u001b[39;00m H2OConnectionError(\u001b[38;5;124m'\u001b[39m\u001b[38;5;124mStarting local server is not available with https enabled. You may start local\u001b[39m\u001b[38;5;124m'\u001b[39m\n\u001b[1;32m    285\u001b[0m                                  \u001b[38;5;124m'\u001b[39m\u001b[38;5;124m instance of H2O with https manually \u001b[39m\u001b[38;5;124m'\u001b[39m\n\u001b[1;32m    286\u001b[0m                                  \u001b[38;5;124m'\u001b[39m\u001b[38;5;124m(https://docs.h2o.ai/h2o/latest-stable/h2o-docs/welcome.html#new-user-quick-start).\u001b[39m\u001b[38;5;124m'\u001b[39m)\n\u001b[0;32m--> 287\u001b[0m     hs \u001b[38;5;241m=\u001b[39m \u001b[43mH2OLocalServer\u001b[49m\u001b[38;5;241;43m.\u001b[39;49m\u001b[43mstart\u001b[49m\u001b[43m(\u001b[49m\u001b[43mnthreads\u001b[49m\u001b[38;5;241;43m=\u001b[39;49m\u001b[43mnthreads\u001b[49m\u001b[43m,\u001b[49m\u001b[43m \u001b[49m\u001b[43menable_assertions\u001b[49m\u001b[38;5;241;43m=\u001b[39;49m\u001b[43menable_assertions\u001b[49m\u001b[43m,\u001b[49m\u001b[43m \u001b[49m\u001b[43mmax_mem_size\u001b[49m\u001b[38;5;241;43m=\u001b[39;49m\u001b[43mmmax\u001b[49m\u001b[43m,\u001b[49m\n\u001b[1;32m    288\u001b[0m \u001b[43m                              \u001b[49m\u001b[43mmin_mem_size\u001b[49m\u001b[38;5;241;43m=\u001b[39;49m\u001b[43mmmin\u001b[49m\u001b[43m,\u001b[49m\u001b[43m \u001b[49m\u001b[43mice_root\u001b[49m\u001b[38;5;241;43m=\u001b[39;49m\u001b[43mice_root\u001b[49m\u001b[43m,\u001b[49m\u001b[43m \u001b[49m\u001b[43mlog_dir\u001b[49m\u001b[38;5;241;43m=\u001b[39;49m\u001b[43mlog_dir\u001b[49m\u001b[43m,\u001b[49m\u001b[43m \u001b[49m\u001b[43mlog_level\u001b[49m\u001b[38;5;241;43m=\u001b[39;49m\u001b[43mlog_level\u001b[49m\u001b[43m,\u001b[49m\n\u001b[1;32m    289\u001b[0m \u001b[43m                              \u001b[49m\u001b[43mmax_log_file_size\u001b[49m\u001b[38;5;241;43m=\u001b[39;49m\u001b[43mmax_log_file_size\u001b[49m\u001b[43m,\u001b[49m\u001b[43m \u001b[49m\u001b[43mport\u001b[49m\u001b[38;5;241;43m=\u001b[39;49m\u001b[43mport\u001b[49m\u001b[43m,\u001b[49m\u001b[43m \u001b[49m\u001b[43mname\u001b[49m\u001b[38;5;241;43m=\u001b[39;49m\u001b[43mname\u001b[49m\u001b[43m,\u001b[49m\n\u001b[1;32m    290\u001b[0m \u001b[43m                              \u001b[49m\u001b[43mextra_classpath\u001b[49m\u001b[38;5;241;43m=\u001b[39;49m\u001b[43mextra_classpath\u001b[49m\u001b[43m,\u001b[49m\u001b[43m \u001b[49m\u001b[43mjvm_custom_args\u001b[49m\u001b[38;5;241;43m=\u001b[39;49m\u001b[43mjvm_custom_args\u001b[49m\u001b[43m,\u001b[49m\n\u001b[1;32m    291\u001b[0m \u001b[43m                              \u001b[49m\u001b[43mbind_to_localhost\u001b[49m\u001b[38;5;241;43m=\u001b[39;49m\u001b[43mbind_to_localhost\u001b[49m\u001b[43m)\u001b[49m\n\u001b[1;32m    292\u001b[0m     h2oconn \u001b[38;5;241m=\u001b[39m H2OConnection\u001b[38;5;241m.\u001b[39mopen(server\u001b[38;5;241m=\u001b[39mhs, https\u001b[38;5;241m=\u001b[39mhttps, verify_ssl_certificates\u001b[38;5;241m=\u001b[39mverify_ssl_certificates,\n\u001b[1;32m    293\u001b[0m                                  cacert\u001b[38;5;241m=\u001b[39mcacert, auth\u001b[38;5;241m=\u001b[39mauth, proxy\u001b[38;5;241m=\u001b[39mproxy, cookies\u001b[38;5;241m=\u001b[39mcookies, verbose\u001b[38;5;241m=\u001b[39m\u001b[38;5;28;01mTrue\u001b[39;00m,\n\u001b[1;32m    294\u001b[0m                                  strict_version_check\u001b[38;5;241m=\u001b[39msvc)\n\u001b[1;32m    295\u001b[0m h2oconn\u001b[38;5;241m.\u001b[39mcluster\u001b[38;5;241m.\u001b[39mtimezone \u001b[38;5;241m=\u001b[39m \u001b[38;5;124m\"\u001b[39m\u001b[38;5;124mUTC\u001b[39m\u001b[38;5;124m\"\u001b[39m\n",
      "File \u001b[0;32m~/opt/anaconda3/lib/python3.9/site-packages/h2o/backend/server.py:131\u001b[0m, in \u001b[0;36mH2OLocalServer.start\u001b[0;34m(jar_path, nthreads, enable_assertions, max_mem_size, min_mem_size, ice_root, log_dir, log_level, max_log_file_size, port, name, extra_classpath, verbose, jvm_custom_args, bind_to_localhost)\u001b[0m\n\u001b[1;32m    129\u001b[0m hs \u001b[38;5;241m=\u001b[39m H2OLocalServer()\n\u001b[1;32m    130\u001b[0m hs\u001b[38;5;241m.\u001b[39m_verbose \u001b[38;5;241m=\u001b[39m \u001b[38;5;28mbool\u001b[39m(verbose)\n\u001b[0;32m--> 131\u001b[0m hs\u001b[38;5;241m.\u001b[39m_jar_path \u001b[38;5;241m=\u001b[39m \u001b[43mhs\u001b[49m\u001b[38;5;241;43m.\u001b[39;49m\u001b[43m_find_jar\u001b[49m\u001b[43m(\u001b[49m\u001b[43mjar_path\u001b[49m\u001b[43m)\u001b[49m\n\u001b[1;32m    132\u001b[0m hs\u001b[38;5;241m.\u001b[39m_extra_classpath \u001b[38;5;241m=\u001b[39m extra_classpath\n\u001b[1;32m    133\u001b[0m hs\u001b[38;5;241m.\u001b[39m_ice_root \u001b[38;5;241m=\u001b[39m ice_root\n",
      "File \u001b[0;32m~/opt/anaconda3/lib/python3.9/site-packages/h2o/backend/server.py:227\u001b[0m, in \u001b[0;36mH2OLocalServer._find_jar\u001b[0;34m(self, path0)\u001b[0m\n\u001b[1;32m    225\u001b[0m     \u001b[38;5;28;01mif\u001b[39;00m os\u001b[38;5;241m.\u001b[39mpath\u001b[38;5;241m.\u001b[39mexists(jp):\n\u001b[1;32m    226\u001b[0m         \u001b[38;5;28;01mreturn\u001b[39;00m jp\n\u001b[0;32m--> 227\u001b[0m \u001b[38;5;28;01mraise\u001b[39;00m H2OStartupError(\u001b[38;5;124m\"\u001b[39m\u001b[38;5;124mCannot start local server: h2o.jar not found. Paths searched:\u001b[39m\u001b[38;5;130;01m\\n\u001b[39;00m\u001b[38;5;124m\"\u001b[39m \u001b[38;5;241m+\u001b[39m\n\u001b[1;32m    228\u001b[0m                       \u001b[38;5;124m\"\u001b[39m\u001b[38;5;124m\"\u001b[39m\u001b[38;5;241m.\u001b[39mjoin(\u001b[38;5;124m\"\u001b[39m\u001b[38;5;124m    \u001b[39m\u001b[38;5;132;01m%s\u001b[39;00m\u001b[38;5;130;01m\\n\u001b[39;00m\u001b[38;5;124m\"\u001b[39m \u001b[38;5;241m%\u001b[39m s \u001b[38;5;28;01mfor\u001b[39;00m s \u001b[38;5;129;01min\u001b[39;00m searched_paths))\n",
      "\u001b[0;31mH2OStartupError\u001b[0m: Cannot start local server: h2o.jar not found. Paths searched:\n    /Users/marijansoric/opt/anaconda3/lib/python3.9/site-packages/h2o/backend/bin/h2o.jar\n    /Users/marijansoric/opt/anaconda3/h2o_jar/h2o.jar\n    /usr/local/h2o_jar/h2o.jar\n    /Users/marijansoric/opt/anaconda3/local/h2o_jar/h2o.jar\n    /Users/marijansoric/.local/h2o_jar/h2o.jar\n    /Users/marijansoric/opt/anaconda3/h2o_jar/h2o.jar\n"
     ]
    }
   ],
   "source": [
    "# Import and init h2o lib. Running on java\n",
    "import h2o\n",
    "from h2o.automl import H2OAutoML\n",
    "h2o.init()"
   ]
  },
  {
   "cell_type": "markdown",
   "metadata": {
    "id": "BJr16P6MwiVm"
   },
   "source": [
    "# Prédiction pour A"
   ]
  },
  {
   "cell_type": "code",
   "execution_count": 63,
   "metadata": {
    "colab": {
     "base_uri": "https://localhost:8080/"
    },
    "executionInfo": {
     "elapsed": 6681,
     "status": "ok",
     "timestamp": 1697215493226,
     "user": {
      "displayName": "M Sorić",
      "userId": "01205173299447673254"
     },
     "user_tz": -120
    },
    "id": "rv53Xmk7wiWb",
    "outputId": "3984b86b-bf4a-4de4-f5c3-99cc71e91a4d"
   },
   "outputs": [
    {
     "name": "stdout",
     "output_type": "stream",
     "text": [
      "Parse progress: |████████████████████████████████████████████████████████████████| (done) 100%\n",
      "Parse progress: |████████████████████████████████████████████████████████████████| (done) 100%\n"
     ]
    }
   ],
   "source": [
    "# Reading csv to h2o dataframe file\n",
    "df_train_a = h2o.H2OFrame(X_train_a)\n",
    "df_test_a = h2o.H2OFrame(X_test_estimated_a)"
   ]
  },
  {
   "cell_type": "code",
   "execution_count": 64,
   "metadata": {
    "executionInfo": {
     "elapsed": 16,
     "status": "ok",
     "timestamp": 1697215493226,
     "user": {
      "displayName": "M Sorić",
      "userId": "01205173299447673254"
     },
     "user_tz": -120
    },
    "id": "v9EPHcBlwiWc"
   },
   "outputs": [],
   "source": [
    "# Setting features as factor\n",
    "df_train_a['dew_or_rime:idx'] = df_train_a['dew_or_rime:idx'].asfactor()\n",
    "df_train_a['is_day:idx'] = df_train_a['is_day:idx'].asfactor()\n",
    "df_train_a['is_in_shadow:idx'] = df_train_a['is_in_shadow:idx'].asfactor()\n",
    "df_train_a['precip_type_5min:idx'] = df_train_a['precip_type_5min:idx'].asfactor()\n",
    "df_train_a['snow_drift:idx'] = df_train_a['snow_drift:idx'].asfactor()"
   ]
  },
  {
   "cell_type": "code",
   "execution_count": 65,
   "metadata": {
    "executionInfo": {
     "elapsed": 16,
     "status": "ok",
     "timestamp": 1697215493227,
     "user": {
      "displayName": "M Sorić",
      "userId": "01205173299447673254"
     },
     "user_tz": -120
    },
    "id": "PoX-H4EMwiWc"
   },
   "outputs": [],
   "source": [
    "df_test_a['dew_or_rime:idx'] = df_test_a['dew_or_rime:idx'].asfactor()\n",
    "df_test_a['is_day:idx'] = df_test_a['is_day:idx'].asfactor()\n",
    "df_test_a['is_in_shadow:idx'] = df_test_a['is_in_shadow:idx'].asfactor()\n",
    "df_test_a['precip_type_5min:idx'] = df_test_a['precip_type_5min:idx'].asfactor()\n",
    "df_test_a['snow_drift:idx'] = df_test_a['snow_drift:idx'].asfactor()"
   ]
  },
  {
   "cell_type": "code",
   "execution_count": 66,
   "metadata": {
    "executionInfo": {
     "elapsed": 15,
     "status": "ok",
     "timestamp": 1697215493227,
     "user": {
      "displayName": "M Sorić",
      "userId": "01205173299447673254"
     },
     "user_tz": -120
    },
    "id": "bBHwURdnwiWc"
   },
   "outputs": [],
   "source": [
    "# Removing labels from train set\n",
    "y = \"pv_measurement\"\n",
    "x = df_train_a.columns\n",
    "x.remove(y)"
   ]
  },
  {
   "cell_type": "code",
   "execution_count": 67,
   "metadata": {
    "colab": {
     "base_uri": "https://localhost:8080/"
    },
    "executionInfo": {
     "elapsed": 10,
     "status": "ok",
     "timestamp": 1697215494657,
     "user": {
      "displayName": "M Sorić",
      "userId": "01205173299447673254"
     },
     "user_tz": -120
    },
    "id": "jwlAZ18Pyyes",
    "outputId": "07f9950b-5689-4112-8ba0-711cdc2fba6d"
   },
   "outputs": [
    {
     "data": {
      "text/plain": [
       "True"
      ]
     },
     "execution_count": 67,
     "metadata": {},
     "output_type": "execute_result"
    }
   ],
   "source": [
    "h2o.estimators.xgboost.H2OXGBoostEstimator.available()"
   ]
  },
  {
   "cell_type": "code",
   "execution_count": null,
   "metadata": {
    "colab": {
     "base_uri": "https://localhost:8080/"
    },
    "id": "Ub95xWrzwiWd",
    "outputId": "cd6d7f10-1d7e-4484-daf0-6534383e9e3e"
   },
   "outputs": [
    {
     "name": "stdout",
     "output_type": "stream",
     "text": [
      "AutoML progress: |\n",
      "16:44:56.244: _train param, Dropping bad and constant columns: [snow_drift:idx, elevation:m]\n",
      "\n",
      "██\n",
      "16:46:34.642: _train param, Dropping bad and constant columns: [snow_drift:idx, elevation:m]\n",
      "\n",
      "██████████\n",
      "16:46:43.947: _train param, Dropping bad and constant columns: [snow_drift:idx, elevation:m]\n",
      "\n",
      "███████████\n",
      "16:49:30.980: _train param, Dropping bad and constant columns: [snow_drift:idx, elevation:m]\n",
      "\n",
      "██████\n",
      "16:50:38.149: _train param, Dropping bad and constant columns: [snow_drift:idx, elevation:m]\n",
      "\n",
      "██"
     ]
    }
   ],
   "source": [
    "# Running fit/training on train set with cross validation n=5\n",
    "aml = H2OAutoML(max_models = 10, seed = 1, sort_metric='MAE')\n",
    "aml.train(x = x, y = y, training_frame = df_train_a)"
   ]
  },
  {
   "cell_type": "code",
   "execution_count": null,
   "metadata": {
    "id": "T4IQ4Zb663Rl"
   },
   "outputs": [],
   "source": []
  },
  {
   "cell_type": "code",
   "execution_count": null,
   "metadata": {
    "id": "xRmnWWVnwiWd"
   },
   "outputs": [],
   "source": [
    "lb = aml.leaderboard"
   ]
  },
  {
   "cell_type": "code",
   "execution_count": null,
   "metadata": {
    "id": "6ka-zXciwiWd"
   },
   "outputs": [],
   "source": [
    "# Showing best perforimg models\n",
    "lb.head()"
   ]
  },
  {
   "cell_type": "code",
   "execution_count": null,
   "metadata": {
    "id": "sxmHDNtawiWd"
   },
   "outputs": [],
   "source": [
    "df_pred_a = aml.predict(df_test_a)"
   ]
  },
  {
   "cell_type": "code",
   "execution_count": null,
   "metadata": {
    "id": "dnL4F4BvwiWl"
   },
   "outputs": [],
   "source": [
    "df_pred_a = h2o.as_list(df_pred_a)"
   ]
  },
  {
   "cell_type": "code",
   "execution_count": null,
   "metadata": {
    "id": "6vnJ98X6wiWn"
   },
   "outputs": [],
   "source": [
    "df_pred_a['time'] = X_test_estimated_a.index\n",
    "df_pred_a['location'] = ['A' for i in df_pred_a.index]\n",
    "df_pred_a.reset_index(inplace = True)\n",
    "df_pred_a = df_pred_a[['index', 'time', 'predict', 'location']]\n",
    "df_pred_a.columns = ['id', 'time', 'prediction', 'location']\n",
    "df_pred_a"
   ]
  },
  {
   "cell_type": "code",
   "execution_count": null,
   "metadata": {
    "id": "JnaH5qtvwiWn"
   },
   "outputs": [],
   "source": [
    "def pos(x):\n",
    "    if  x < 0:\n",
    "        return 0\n",
    "    else:\n",
    "        return x"
   ]
  },
  {
   "cell_type": "code",
   "execution_count": null,
   "metadata": {
    "id": "TsE_3URFwiWo"
   },
   "outputs": [],
   "source": [
    "df_pred_a['prediction'] = df_pred_a['prediction'].apply(lambda x: pos(x))"
   ]
  },
  {
   "cell_type": "code",
   "execution_count": null,
   "metadata": {
    "id": "V2FtnXiZwiWo",
    "scrolled": true
   },
   "outputs": [],
   "source": [
    "df_pred_a.prediction[0:24].plot()"
   ]
  },
  {
   "cell_type": "code",
   "execution_count": null,
   "metadata": {
    "id": "xzu0MjlMwiWp"
   },
   "outputs": [],
   "source": [
    "df_pred_a_to_plot = df_pred_a['prediction']\n",
    "df_pred_a_to_plot.set_index(df_pred_a['time'], inplace = True)"
   ]
  },
  {
   "cell_type": "code",
   "execution_count": null,
   "metadata": {
    "id": "RwWL8Qe3wiWq"
   },
   "outputs": [],
   "source": [
    "df_pred_a_to_plot.plot()"
   ]
  },
  {
   "cell_type": "markdown",
   "metadata": {
    "id": "omFKjHOKwiWq"
   },
   "source": [
    "# Prediction pour B"
   ]
  },
  {
   "cell_type": "code",
   "execution_count": null,
   "metadata": {
    "id": "k9rYOOozwiWr",
    "outputId": "a5c4c875-d3ce-4091-e4f2-63d9986f650c"
   },
   "outputs": [
    {
     "name": "stdout",
     "output_type": "stream",
     "text": [
      "Parse progress: |████████████████████████████████████████████████████████████████| (done) 100%\n",
      "Parse progress: |████████████████████████████████████████████████████████████████| (done) 100%\n"
     ]
    }
   ],
   "source": [
    "# Reading csv to h2o dataframe file\n",
    "df_train_b = h2o.H2OFrame(X_train_b)\n",
    "df_test_b = h2o.H2OFrame(X_test_estimated_b)"
   ]
  },
  {
   "cell_type": "code",
   "execution_count": null,
   "metadata": {
    "id": "9S0g_5XJwiWr"
   },
   "outputs": [],
   "source": [
    "# Setting features as factor\n",
    "df_train_b['dew_or_rime:idx'] = df_train_b['dew_or_rime:idx'].asfactor()\n",
    "df_train_b['is_day:idx'] = df_train_b['is_day:idx'].asfactor()\n",
    "df_train_b['is_in_shadow:idx'] = df_train_b['is_in_shadow:idx'].asfactor()\n",
    "df_train_b['precip_type_5min:idx'] = df_train_b['precip_type_5min:idx'].asfactor()\n",
    "df_train_b['snow_drift:idx'] = df_train_b['snow_drift:idx'].asfactor()"
   ]
  },
  {
   "cell_type": "code",
   "execution_count": null,
   "metadata": {
    "id": "fCdOAT2YwiWs"
   },
   "outputs": [],
   "source": [
    "df_test_b['dew_or_rime:idx'] = df_test_b['dew_or_rime:idx'].asfactor()\n",
    "df_test_b['is_day:idx'] = df_test_b['is_day:idx'].asfactor()\n",
    "df_test_b['is_in_shadow:idx'] = df_test_b['is_in_shadow:idx'].asfactor()\n",
    "df_test_b['precip_type_5min:idx'] = df_test_b['precip_type_5min:idx'].asfactor()\n",
    "df_test_b['snow_drift:idx'] = df_test_b['snow_drift:idx'].asfactor()"
   ]
  },
  {
   "cell_type": "code",
   "execution_count": null,
   "metadata": {
    "id": "mlyd0vonwiWs"
   },
   "outputs": [],
   "source": [
    "# Removing labels from train set\n",
    "y = \"pv_measurement\"\n",
    "x = df_train_b.columns\n",
    "x.remove(y)"
   ]
  },
  {
   "cell_type": "code",
   "execution_count": null,
   "metadata": {
    "id": "u-Neel_6wiW0",
    "outputId": "2c128245-f82a-40ca-97c5-50dd02a3fa6e"
   },
   "outputs": [
    {
     "name": "stdout",
     "output_type": "stream",
     "text": [
      "AutoML progress: |\n",
      "14:18:50.419: _train param, Dropping bad and constant columns: [elevation:m]\n",
      "\n",
      "██\n",
      "14:19:47.531: _train param, Dropping bad and constant columns: [elevation:m]\n",
      "\n",
      "█\n",
      "14:19:53.742: _train param, Dropping bad and constant columns: [elevation:m]\n",
      "\n",
      "██████\n",
      "14:21:07.390: _train param, Dropping bad and constant columns: [elevation:m]\n",
      "\n",
      "████████████\n",
      "14:22:41.477: _train param, Dropping bad and constant columns: [elevation:m]\n",
      "\n",
      "███\n",
      "14:24:49.258: _train param, Dropping bad and constant columns: [elevation:m]\n",
      "\n",
      "███\n",
      "14:25:49.479: _train param, Dropping bad and constant columns: [elevation:m]\n",
      "\n",
      "██\n",
      "14:26:46.675: _train param, Dropping bad and constant columns: [elevation:m]\n",
      "\n",
      "█\n",
      "14:27:49.801: _train param, Dropping bad and constant columns: [elevation:m]\n",
      "\n",
      "███\n",
      "14:28:37.329: _train param, Dropping bad and constant columns: [elevation:m]\n",
      "\n",
      "████\n",
      "14:31:05.701: _train param, Dropping unused columns: [elevation:m]\n",
      "\n",
      "\n",
      "14:31:08.455: _train param, Dropping unused columns: [elevation:m]\n",
      "\n",
      "██████████████████████████| (done) 100%\n"
     ]
    },
    {
     "data": {
      "text/html": [
       "<pre style='margin: 1em 0 1em 0;'>Model Details\n",
       "=============\n",
       "H2OStackedEnsembleEstimator : Stacked Ensemble\n",
       "Model Key: StackedEnsemble_AllModels_1_AutoML_2_20231013_141850\n",
       "</pre>\n",
       "<div style='margin: 1em 0 1em 0;'>\n",
       "<style>\n",
       "\n",
       "#h2o-table-5.h2o-container {\n",
       "  overflow-x: auto;\n",
       "}\n",
       "#h2o-table-5 .h2o-table {\n",
       "  /* width: 100%; */\n",
       "  margin-top: 1em;\n",
       "  margin-bottom: 1em;\n",
       "}\n",
       "#h2o-table-5 .h2o-table caption {\n",
       "  white-space: nowrap;\n",
       "  caption-side: top;\n",
       "  text-align: left;\n",
       "  /* margin-left: 1em; */\n",
       "  margin: 0;\n",
       "  font-size: larger;\n",
       "}\n",
       "#h2o-table-5 .h2o-table thead {\n",
       "  white-space: nowrap; \n",
       "  position: sticky;\n",
       "  top: 0;\n",
       "  box-shadow: 0 -1px inset;\n",
       "}\n",
       "#h2o-table-5 .h2o-table tbody {\n",
       "  overflow: auto;\n",
       "}\n",
       "#h2o-table-5 .h2o-table th,\n",
       "#h2o-table-5 .h2o-table td {\n",
       "  text-align: right;\n",
       "  /* border: 1px solid; */\n",
       "}\n",
       "#h2o-table-5 .h2o-table tr:nth-child(even) {\n",
       "  /* background: #F5F5F5 */\n",
       "}\n",
       "\n",
       "</style>      \n",
       "<div id=\"h2o-table-5\" class=\"h2o-container\">\n",
       "  <table class=\"h2o-table\">\n",
       "    <caption>Model Summary for Stacked Ensemble: </caption>\n",
       "    <thead><tr><th>key</th>\n",
       "<th>value</th></tr></thead>\n",
       "    <tbody><tr><td>Stacking strategy</td>\n",
       "<td>cross_validation</td></tr>\n",
       "<tr><td>Number of base models (used / total)</td>\n",
       "<td>7/10</td></tr>\n",
       "<tr><td># GBM base models (used / total)</td>\n",
       "<td>3/4</td></tr>\n",
       "<tr><td># XGBoost base models (used / total)</td>\n",
       "<td>2/3</td></tr>\n",
       "<tr><td># DRF base models (used / total)</td>\n",
       "<td>2/2</td></tr>\n",
       "<tr><td># GLM base models (used / total)</td>\n",
       "<td>0/1</td></tr>\n",
       "<tr><td>Metalearner algorithm</td>\n",
       "<td>GLM</td></tr>\n",
       "<tr><td>Metalearner fold assignment scheme</td>\n",
       "<td>Random</td></tr>\n",
       "<tr><td>Metalearner nfolds</td>\n",
       "<td>5</td></tr>\n",
       "<tr><td>Metalearner fold_column</td>\n",
       "<td>None</td></tr>\n",
       "<tr><td>Custom metalearner hyperparameters</td>\n",
       "<td>None</td></tr></tbody>\n",
       "  </table>\n",
       "</div>\n",
       "</div>\n",
       "<div style='margin: 1em 0 1em 0;'><pre style='margin: 1em 0 1em 0;'>ModelMetricsRegressionGLM: stackedensemble\n",
       "** Reported on train data. **\n",
       "\n",
       "MSE: 855.2472871660148\n",
       "RMSE: 29.24461125004083\n",
       "MAE: 15.693089241109837\n",
       "RMSLE: NaN\n",
       "Mean Residual Deviance: 855.2472871660148\n",
       "R^2: 0.9768096858309877\n",
       "Null degrees of freedom: 10083\n",
       "Residual degrees of freedom: 10076\n",
       "Null deviance: 371893971.6605512\n",
       "Residual deviance: 8624313.643782092\n",
       "AIC: 96716.1756711785</pre></div>\n",
       "<div style='margin: 1em 0 1em 0;'><pre style='margin: 1em 0 1em 0;'>ModelMetricsRegressionGLM: stackedensemble\n",
       "** Reported on cross-validation data. **\n",
       "\n",
       "MSE: 4981.134107609585\n",
       "RMSE: 70.57715003887296\n",
       "MAE: 33.564896489526454\n",
       "RMSLE: NaN\n",
       "Mean Residual Deviance: 4981.134107609585\n",
       "R^2: 0.8676512884311798\n",
       "Null degrees of freedom: 32818\n",
       "Residual degrees of freedom: 32811\n",
       "Null deviance: 1235225742.4511905\n",
       "Residual deviance: 163475840.27763897\n",
       "AIC: 372555.9846377637</pre></div>\n",
       "<div style='margin: 1em 0 1em 0;'>\n",
       "<style>\n",
       "\n",
       "#h2o-table-6.h2o-container {\n",
       "  overflow-x: auto;\n",
       "}\n",
       "#h2o-table-6 .h2o-table {\n",
       "  /* width: 100%; */\n",
       "  margin-top: 1em;\n",
       "  margin-bottom: 1em;\n",
       "}\n",
       "#h2o-table-6 .h2o-table caption {\n",
       "  white-space: nowrap;\n",
       "  caption-side: top;\n",
       "  text-align: left;\n",
       "  /* margin-left: 1em; */\n",
       "  margin: 0;\n",
       "  font-size: larger;\n",
       "}\n",
       "#h2o-table-6 .h2o-table thead {\n",
       "  white-space: nowrap; \n",
       "  position: sticky;\n",
       "  top: 0;\n",
       "  box-shadow: 0 -1px inset;\n",
       "}\n",
       "#h2o-table-6 .h2o-table tbody {\n",
       "  overflow: auto;\n",
       "}\n",
       "#h2o-table-6 .h2o-table th,\n",
       "#h2o-table-6 .h2o-table td {\n",
       "  text-align: right;\n",
       "  /* border: 1px solid; */\n",
       "}\n",
       "#h2o-table-6 .h2o-table tr:nth-child(even) {\n",
       "  /* background: #F5F5F5 */\n",
       "}\n",
       "\n",
       "</style>      \n",
       "<div id=\"h2o-table-6\" class=\"h2o-container\">\n",
       "  <table class=\"h2o-table\">\n",
       "    <caption>Cross-Validation Metrics Summary: </caption>\n",
       "    <thead><tr><th></th>\n",
       "<th>mean</th>\n",
       "<th>sd</th>\n",
       "<th>cv_1_valid</th>\n",
       "<th>cv_2_valid</th>\n",
       "<th>cv_3_valid</th>\n",
       "<th>cv_4_valid</th>\n",
       "<th>cv_5_valid</th></tr></thead>\n",
       "    <tbody><tr><td>mae</td>\n",
       "<td>33.567284</td>\n",
       "<td>0.8366243</td>\n",
       "<td>34.594696</td>\n",
       "<td>32.292034</td>\n",
       "<td>33.409817</td>\n",
       "<td>33.844063</td>\n",
       "<td>33.695805</td></tr>\n",
       "<tr><td>mean_residual_deviance</td>\n",
       "<td>4980.9277</td>\n",
       "<td>189.50987</td>\n",
       "<td>5139.5317</td>\n",
       "<td>4744.0425</td>\n",
       "<td>4808.336</td>\n",
       "<td>5082.601</td>\n",
       "<td>5130.1284</td></tr>\n",
       "<tr><td>mse</td>\n",
       "<td>4980.9277</td>\n",
       "<td>189.50987</td>\n",
       "<td>5139.5317</td>\n",
       "<td>4744.0425</td>\n",
       "<td>4808.336</td>\n",
       "<td>5082.601</td>\n",
       "<td>5130.1284</td></tr>\n",
       "<tr><td>null_deviance</td>\n",
       "<td>247045152.0000000</td>\n",
       "<td>4729740.5</td>\n",
       "<td>253052480.0000000</td>\n",
       "<td>243568624.0000000</td>\n",
       "<td>250816304.0000000</td>\n",
       "<td>241993040.0000000</td>\n",
       "<td>245795312.0000000</td></tr>\n",
       "<tr><td>r2</td>\n",
       "<td>0.8676424</td>\n",
       "<td>0.0048468</td>\n",
       "<td>0.8665454</td>\n",
       "<td>0.8733767</td>\n",
       "<td>0.8720108</td>\n",
       "<td>0.8627867</td>\n",
       "<td>0.8634926</td></tr>\n",
       "<tr><td>residual_deviance</td>\n",
       "<td>32691746.0000000</td>\n",
       "<td>1216635.0</td>\n",
       "<td>33761584.0000000</td>\n",
       "<td>30841020.0000000</td>\n",
       "<td>32100452.0000000</td>\n",
       "<td>33204634.0000000</td>\n",
       "<td>33551040.0000000</td></tr>\n",
       "<tr><td>rmse</td>\n",
       "<td>70.5654</td>\n",
       "<td>1.3475827</td>\n",
       "<td>71.69053</td>\n",
       "<td>68.877014</td>\n",
       "<td>69.34216</td>\n",
       "<td>71.292366</td>\n",
       "<td>71.624916</td></tr>\n",
       "<tr><td>rmsle</td>\n",
       "<td>nan</td>\n",
       "<td>0.0</td>\n",
       "<td>nan</td>\n",
       "<td>nan</td>\n",
       "<td>nan</td>\n",
       "<td>nan</td>\n",
       "<td>nan</td></tr></tbody>\n",
       "  </table>\n",
       "</div>\n",
       "</div><pre style=\"font-size: smaller; margin: 1em 0 0 0;\">\n",
       "\n",
       "[tips]\n",
       "Use `model.explain()` to inspect the model.\n",
       "--\n",
       "Use `h2o.display.toggle_user_tips()` to switch on/off this section.</pre>"
      ],
      "text/plain": [
       "Model Details\n",
       "=============\n",
       "H2OStackedEnsembleEstimator : Stacked Ensemble\n",
       "Model Key: StackedEnsemble_AllModels_1_AutoML_2_20231013_141850\n",
       "\n",
       "\n",
       "Model Summary for Stacked Ensemble: \n",
       "key                                   value\n",
       "------------------------------------  ----------------\n",
       "Stacking strategy                     cross_validation\n",
       "Number of base models (used / total)  7/10\n",
       "# GBM base models (used / total)      3/4\n",
       "# XGBoost base models (used / total)  2/3\n",
       "# DRF base models (used / total)      2/2\n",
       "# GLM base models (used / total)      0/1\n",
       "Metalearner algorithm                 GLM\n",
       "Metalearner fold assignment scheme    Random\n",
       "Metalearner nfolds                    5\n",
       "Metalearner fold_column\n",
       "Custom metalearner hyperparameters    None\n",
       "\n",
       "ModelMetricsRegressionGLM: stackedensemble\n",
       "** Reported on train data. **\n",
       "\n",
       "MSE: 855.2472871660148\n",
       "RMSE: 29.24461125004083\n",
       "MAE: 15.693089241109837\n",
       "RMSLE: NaN\n",
       "Mean Residual Deviance: 855.2472871660148\n",
       "R^2: 0.9768096858309877\n",
       "Null degrees of freedom: 10083\n",
       "Residual degrees of freedom: 10076\n",
       "Null deviance: 371893971.6605512\n",
       "Residual deviance: 8624313.643782092\n",
       "AIC: 96716.1756711785\n",
       "\n",
       "ModelMetricsRegressionGLM: stackedensemble\n",
       "** Reported on cross-validation data. **\n",
       "\n",
       "MSE: 4981.134107609585\n",
       "RMSE: 70.57715003887296\n",
       "MAE: 33.564896489526454\n",
       "RMSLE: NaN\n",
       "Mean Residual Deviance: 4981.134107609585\n",
       "R^2: 0.8676512884311798\n",
       "Null degrees of freedom: 32818\n",
       "Residual degrees of freedom: 32811\n",
       "Null deviance: 1235225742.4511905\n",
       "Residual deviance: 163475840.27763897\n",
       "AIC: 372555.9846377637\n",
       "\n",
       "Cross-Validation Metrics Summary: \n",
       "                        mean         sd           cv_1_valid    cv_2_valid    cv_3_valid    cv_4_valid    cv_5_valid\n",
       "----------------------  -----------  -----------  ------------  ------------  ------------  ------------  ------------\n",
       "mae                     33.5673      0.836624     34.5947       32.292        33.4098       33.8441       33.6958\n",
       "mean_residual_deviance  4980.93      189.51       5139.53       4744.04       4808.34       5082.6        5130.13\n",
       "mse                     4980.93      189.51       5139.53       4744.04       4808.34       5082.6        5130.13\n",
       "null_deviance           2.47045e+08  4.72974e+06  2.53052e+08   2.43569e+08   2.50816e+08   2.41993e+08   2.45795e+08\n",
       "r2                      0.867642     0.00484681   0.866545      0.873377      0.872011      0.862787      0.863493\n",
       "residual_deviance       3.26917e+07  1.21664e+06  3.37616e+07   3.0841e+07    3.21005e+07   3.32046e+07   3.3551e+07\n",
       "rmse                    70.5654      1.34758      71.6905       68.877        69.3422       71.2924       71.6249\n",
       "rmsle                   nan          0            nan           nan           nan           nan           nan\n",
       "\n",
       "[tips]\n",
       "Use `model.explain()` to inspect the model.\n",
       "--\n",
       "Use `h2o.display.toggle_user_tips()` to switch on/off this section."
      ]
     },
     "execution_count": 83,
     "metadata": {},
     "output_type": "execute_result"
    }
   ],
   "source": [
    "# Running fit/training on train set with cross validation n=5\n",
    "aml = H2OAutoML(max_models = 10, seed = 1, sort_metric='MAE')\n",
    "aml.train(x = x, y = y, training_frame = df_train_b)"
   ]
  },
  {
   "cell_type": "code",
   "execution_count": null,
   "metadata": {
    "id": "QxAeaVhtwiW1"
   },
   "outputs": [],
   "source": [
    "lb = aml.leaderboard"
   ]
  },
  {
   "cell_type": "code",
   "execution_count": null,
   "metadata": {
    "id": "Py16LzafwiW1",
    "outputId": "f515be00-2b29-4927-de04-95749aa9c6be"
   },
   "outputs": [
    {
     "data": {
      "text/html": [
       "<table class='dataframe'>\n",
       "<thead>\n",
       "<tr><th>model_id                                               </th><th style=\"text-align: right;\">   rmse</th><th style=\"text-align: right;\">    mse</th><th style=\"text-align: right;\">    mae</th><th style=\"text-align: right;\">    rmsle</th><th style=\"text-align: right;\">  mean_residual_deviance</th></tr>\n",
       "</thead>\n",
       "<tbody>\n",
       "<tr><td>StackedEnsemble_AllModels_1_AutoML_2_20231013_141850   </td><td style=\"text-align: right;\">70.5772</td><td style=\"text-align: right;\">4981.13</td><td style=\"text-align: right;\">33.5649</td><td style=\"text-align: right;\">nan      </td><td style=\"text-align: right;\">                 4981.13</td></tr>\n",
       "<tr><td>StackedEnsemble_BestOfFamily_1_AutoML_2_20231013_141850</td><td style=\"text-align: right;\">70.8112</td><td style=\"text-align: right;\">5014.23</td><td style=\"text-align: right;\">33.6182</td><td style=\"text-align: right;\">nan      </td><td style=\"text-align: right;\">                 5014.23</td></tr>\n",
       "<tr><td>GBM_4_AutoML_2_20231013_141850                         </td><td style=\"text-align: right;\">71.7216</td><td style=\"text-align: right;\">5143.99</td><td style=\"text-align: right;\">34.4955</td><td style=\"text-align: right;\">nan      </td><td style=\"text-align: right;\">                 5143.99</td></tr>\n",
       "<tr><td>GBM_3_AutoML_2_20231013_141850                         </td><td style=\"text-align: right;\">72.8709</td><td style=\"text-align: right;\">5310.17</td><td style=\"text-align: right;\">35.4972</td><td style=\"text-align: right;\">nan      </td><td style=\"text-align: right;\">                 5310.17</td></tr>\n",
       "<tr><td>DRF_1_AutoML_2_20231013_141850                         </td><td style=\"text-align: right;\">73.7923</td><td style=\"text-align: right;\">5445.3 </td><td style=\"text-align: right;\">35.1052</td><td style=\"text-align: right;\">  1.30905</td><td style=\"text-align: right;\">                 5445.3 </td></tr>\n",
       "<tr><td>GBM_2_AutoML_2_20231013_141850                         </td><td style=\"text-align: right;\">73.8369</td><td style=\"text-align: right;\">5451.88</td><td style=\"text-align: right;\">36.2416</td><td style=\"text-align: right;\">nan      </td><td style=\"text-align: right;\">                 5451.88</td></tr>\n",
       "<tr><td>XRT_1_AutoML_2_20231013_141850                         </td><td style=\"text-align: right;\">74.1349</td><td style=\"text-align: right;\">5495.98</td><td style=\"text-align: right;\">35.1844</td><td style=\"text-align: right;\">  1.32486</td><td style=\"text-align: right;\">                 5495.98</td></tr>\n",
       "<tr><td>GBM_1_AutoML_2_20231013_141850                         </td><td style=\"text-align: right;\">77.5926</td><td style=\"text-align: right;\">6020.61</td><td style=\"text-align: right;\">37.9527</td><td style=\"text-align: right;\">nan      </td><td style=\"text-align: right;\">                 6020.61</td></tr>\n",
       "<tr><td>XGBoost_2_AutoML_2_20231013_141850                     </td><td style=\"text-align: right;\">78.259 </td><td style=\"text-align: right;\">6124.46</td><td style=\"text-align: right;\">37.4735</td><td style=\"text-align: right;\">nan      </td><td style=\"text-align: right;\">                 6124.46</td></tr>\n",
       "<tr><td>XGBoost_1_AutoML_2_20231013_141850                     </td><td style=\"text-align: right;\">78.7692</td><td style=\"text-align: right;\">6204.59</td><td style=\"text-align: right;\">37.6094</td><td style=\"text-align: right;\">nan      </td><td style=\"text-align: right;\">                 6204.59</td></tr>\n",
       "</tbody>\n",
       "</table><pre style='font-size: smaller; margin-bottom: 1em;'>[10 rows x 6 columns]</pre>"
      ],
      "text/plain": [
       "model_id                                                    rmse      mse      mae      rmsle    mean_residual_deviance\n",
       "-------------------------------------------------------  -------  -------  -------  ---------  ------------------------\n",
       "StackedEnsemble_AllModels_1_AutoML_2_20231013_141850     70.5772  4981.13  33.5649  nan                         4981.13\n",
       "StackedEnsemble_BestOfFamily_1_AutoML_2_20231013_141850  70.8112  5014.23  33.6182  nan                         5014.23\n",
       "GBM_4_AutoML_2_20231013_141850                           71.7216  5143.99  34.4955  nan                         5143.99\n",
       "GBM_3_AutoML_2_20231013_141850                           72.8709  5310.17  35.4972  nan                         5310.17\n",
       "DRF_1_AutoML_2_20231013_141850                           73.7923  5445.3   35.1052    1.30905                   5445.3\n",
       "GBM_2_AutoML_2_20231013_141850                           73.8369  5451.88  36.2416  nan                         5451.88\n",
       "XRT_1_AutoML_2_20231013_141850                           74.1349  5495.98  35.1844    1.32486                   5495.98\n",
       "GBM_1_AutoML_2_20231013_141850                           77.5926  6020.61  37.9527  nan                         6020.61\n",
       "XGBoost_2_AutoML_2_20231013_141850                       78.259   6124.46  37.4735  nan                         6124.46\n",
       "XGBoost_1_AutoML_2_20231013_141850                       78.7692  6204.59  37.6094  nan                         6204.59\n",
       "[10 rows x 6 columns]\n"
      ]
     },
     "execution_count": 85,
     "metadata": {},
     "output_type": "execute_result"
    }
   ],
   "source": [
    "# Showing best perforimg models\n",
    "lb.head()"
   ]
  },
  {
   "cell_type": "code",
   "execution_count": null,
   "metadata": {
    "id": "vgwjhdFhwiXz",
    "outputId": "eff24c20-19f1-4a09-849d-4af7602e061c"
   },
   "outputs": [
    {
     "name": "stdout",
     "output_type": "stream",
     "text": [
      "stackedensemble prediction progress: |███████████████████████████████████████████| (done) 100%\n"
     ]
    }
   ],
   "source": [
    "df_pred_b = aml.predict(df_test_b)"
   ]
  },
  {
   "cell_type": "code",
   "execution_count": null,
   "metadata": {
    "id": "3PRfQraiwiXz"
   },
   "outputs": [],
   "source": [
    "df_pred_b = h2o.as_list(df_pred_b)"
   ]
  },
  {
   "cell_type": "code",
   "execution_count": null,
   "metadata": {
    "id": "Wiwbz-9QwiX0",
    "outputId": "cd9f05d7-fed8-480d-8913-cc17be556604"
   },
   "outputs": [
    {
     "data": {
      "text/html": [
       "<div>\n",
       "<style scoped>\n",
       "    .dataframe tbody tr th:only-of-type {\n",
       "        vertical-align: middle;\n",
       "    }\n",
       "\n",
       "    .dataframe tbody tr th {\n",
       "        vertical-align: top;\n",
       "    }\n",
       "\n",
       "    .dataframe thead th {\n",
       "        text-align: right;\n",
       "    }\n",
       "</style>\n",
       "<table border=\"1\" class=\"dataframe\">\n",
       "  <thead>\n",
       "    <tr style=\"text-align: right;\">\n",
       "      <th></th>\n",
       "      <th>id</th>\n",
       "      <th>time</th>\n",
       "      <th>prediction</th>\n",
       "      <th>location</th>\n",
       "    </tr>\n",
       "  </thead>\n",
       "  <tbody>\n",
       "    <tr>\n",
       "      <th>0</th>\n",
       "      <td>0</td>\n",
       "      <td>2023-05-01 00:00:00</td>\n",
       "      <td>3.841644</td>\n",
       "      <td>B</td>\n",
       "    </tr>\n",
       "    <tr>\n",
       "      <th>1</th>\n",
       "      <td>1</td>\n",
       "      <td>2023-05-01 01:00:00</td>\n",
       "      <td>12.478202</td>\n",
       "      <td>B</td>\n",
       "    </tr>\n",
       "    <tr>\n",
       "      <th>2</th>\n",
       "      <td>2</td>\n",
       "      <td>2023-05-01 02:00:00</td>\n",
       "      <td>3.058373</td>\n",
       "      <td>B</td>\n",
       "    </tr>\n",
       "    <tr>\n",
       "      <th>3</th>\n",
       "      <td>3</td>\n",
       "      <td>2023-05-01 03:00:00</td>\n",
       "      <td>8.665587</td>\n",
       "      <td>B</td>\n",
       "    </tr>\n",
       "    <tr>\n",
       "      <th>4</th>\n",
       "      <td>4</td>\n",
       "      <td>2023-05-01 04:00:00</td>\n",
       "      <td>43.000525</td>\n",
       "      <td>B</td>\n",
       "    </tr>\n",
       "    <tr>\n",
       "      <th>...</th>\n",
       "      <td>...</td>\n",
       "      <td>...</td>\n",
       "      <td>...</td>\n",
       "      <td>...</td>\n",
       "    </tr>\n",
       "    <tr>\n",
       "      <th>715</th>\n",
       "      <td>715</td>\n",
       "      <td>2023-07-03 19:00:00</td>\n",
       "      <td>34.304890</td>\n",
       "      <td>B</td>\n",
       "    </tr>\n",
       "    <tr>\n",
       "      <th>716</th>\n",
       "      <td>716</td>\n",
       "      <td>2023-07-03 20:00:00</td>\n",
       "      <td>20.337171</td>\n",
       "      <td>B</td>\n",
       "    </tr>\n",
       "    <tr>\n",
       "      <th>717</th>\n",
       "      <td>717</td>\n",
       "      <td>2023-07-03 21:00:00</td>\n",
       "      <td>18.347044</td>\n",
       "      <td>B</td>\n",
       "    </tr>\n",
       "    <tr>\n",
       "      <th>718</th>\n",
       "      <td>718</td>\n",
       "      <td>2023-07-03 22:00:00</td>\n",
       "      <td>19.388608</td>\n",
       "      <td>B</td>\n",
       "    </tr>\n",
       "    <tr>\n",
       "      <th>719</th>\n",
       "      <td>719</td>\n",
       "      <td>2023-07-03 23:00:00</td>\n",
       "      <td>19.584636</td>\n",
       "      <td>B</td>\n",
       "    </tr>\n",
       "  </tbody>\n",
       "</table>\n",
       "<p>720 rows × 4 columns</p>\n",
       "</div>"
      ],
      "text/plain": [
       "      id                time  prediction location\n",
       "0      0 2023-05-01 00:00:00    3.841644        B\n",
       "1      1 2023-05-01 01:00:00   12.478202        B\n",
       "2      2 2023-05-01 02:00:00    3.058373        B\n",
       "3      3 2023-05-01 03:00:00    8.665587        B\n",
       "4      4 2023-05-01 04:00:00   43.000525        B\n",
       "..   ...                 ...         ...      ...\n",
       "715  715 2023-07-03 19:00:00   34.304890        B\n",
       "716  716 2023-07-03 20:00:00   20.337171        B\n",
       "717  717 2023-07-03 21:00:00   18.347044        B\n",
       "718  718 2023-07-03 22:00:00   19.388608        B\n",
       "719  719 2023-07-03 23:00:00   19.584636        B\n",
       "\n",
       "[720 rows x 4 columns]"
      ]
     },
     "execution_count": 88,
     "metadata": {},
     "output_type": "execute_result"
    }
   ],
   "source": [
    "df_pred_b['time'] = X_test_estimated_b.index\n",
    "df_pred_b['location'] = ['B' for i in df_pred_b.index]\n",
    "df_pred_b.reset_index(inplace = True)\n",
    "df_pred_b = df_pred_b[['index', 'time', 'predict', 'location']]\n",
    "df_pred_b.columns = ['id', 'time', 'prediction', 'location']\n",
    "df_pred_b"
   ]
  },
  {
   "cell_type": "code",
   "execution_count": null,
   "metadata": {
    "id": "2v0B7lGFwiX0"
   },
   "outputs": [],
   "source": [
    "df_pred_b['prediction'] = df_pred_b['prediction'].apply(lambda x: pos(x))"
   ]
  },
  {
   "cell_type": "code",
   "execution_count": null,
   "metadata": {
    "id": "FFyZO70kwiX0",
    "outputId": "2cb807b3-d203-4ca6-c0ca-13fa09f7d385"
   },
   "outputs": [
    {
     "data": {
      "text/plain": [
       "<Axes: >"
      ]
     },
     "execution_count": 90,
     "metadata": {},
     "output_type": "execute_result"
    },
    {
     "data": {
      "image/png": "[encoded data removed]",
      "text/plain": [
       "<Figure size 640x480 with 1 Axes>"
      ]
     },
     "metadata": {},
     "output_type": "display_data"
    }
   ],
   "source": [
    "df_pred_b.prediction.plot()"
   ]
  },
  {
   "cell_type": "code",
   "execution_count": null,
   "metadata": {
    "id": "VdBgqrRFwiX1"
   },
   "outputs": [],
   "source": [
    "df_pred_b_to_plot = df_pred_b['prediction']\n",
    "df_pred_b_to_plot.set_index(df_pred_b['time'], inplace = True)"
   ]
  },
  {
   "cell_type": "code",
   "execution_count": null,
   "metadata": {
    "id": "kFOpQSD3wiX1"
   },
   "outputs": [],
   "source": [
    "df_pred_b_to_plot.plot()"
   ]
  },
  {
   "cell_type": "markdown",
   "metadata": {
    "id": "U8T7jc8ZwiX1"
   },
   "source": [
    "# Prediction pour C"
   ]
  },
  {
   "cell_type": "code",
   "execution_count": null,
   "metadata": {
    "id": "U11-QbUGwiX1",
    "outputId": "6d1a5d17-5ac7-41dd-9ab6-136d236ad722"
   },
   "outputs": [
    {
     "name": "stdout",
     "output_type": "stream",
     "text": [
      "Parse progress: |████████████████████████████████████████████████████████████████| (done) 100%\n",
      "Parse progress: |████████████████████████████████████████████████████████████████| (done) 100%\n"
     ]
    }
   ],
   "source": [
    "# Reading csv to h2o dataframe file\n",
    "df_train_c = h2o.H2OFrame(X_train_c)\n",
    "df_test_c = h2o.H2OFrame(X_test_estimated_c)"
   ]
  },
  {
   "cell_type": "code",
   "execution_count": null,
   "metadata": {
    "id": "NemhZWyjwiX1"
   },
   "outputs": [],
   "source": [
    "# Setting features as factor\n",
    "df_train_c['dew_or_rime:idx'] = df_train_c['dew_or_rime:idx'].asfactor()\n",
    "df_train_c['is_day:idx'] = df_train_c['is_day:idx'].asfactor()\n",
    "df_train_c['is_in_shadow:idx'] = df_train_c['is_in_shadow:idx'].asfactor()\n",
    "df_train_c['precip_type_5min:idx'] = df_train_c['precip_type_5min:idx'].asfactor()\n",
    "df_train_c['snow_drift:idx'] = df_train_c['snow_drift:idx'].asfactor()"
   ]
  },
  {
   "cell_type": "code",
   "execution_count": null,
   "metadata": {
    "id": "7ByICWPgwiX2"
   },
   "outputs": [],
   "source": [
    "df_test_c['dew_or_rime:idx'] = df_test_c['dew_or_rime:idx'].asfactor()\n",
    "df_test_c['is_day:idx'] = df_test_c['is_day:idx'].asfactor()\n",
    "df_test_c['is_in_shadow:idx'] = df_test_c['is_in_shadow:idx'].asfactor()\n",
    "df_test_c['precip_type_5min:idx'] = df_test_c['precip_type_5min:idx'].asfactor()\n",
    "df_test_c['snow_drift:idx'] = df_test_c['snow_drift:idx'].asfactor()"
   ]
  },
  {
   "cell_type": "code",
   "execution_count": null,
   "metadata": {
    "id": "eL_E-K3XwiX3"
   },
   "outputs": [],
   "source": [
    "# Removing labels from train set\n",
    "y = \"pv_measurement\"\n",
    "x = df_train_c.columns\n",
    "x.remove(y)"
   ]
  },
  {
   "cell_type": "code",
   "execution_count": null,
   "metadata": {
    "id": "OG-B-vCBwiX3",
    "outputId": "9dd3e06e-0352-432a-c89c-3587145ed155"
   },
   "outputs": [
    {
     "name": "stdout",
     "output_type": "stream",
     "text": [
      "AutoML progress: |\n",
      "14:33:59.226: _train param, Dropping bad and constant columns: [snow_drift:idx, elevation:m]\n",
      "\n",
      "██\n",
      "14:34:53.80: _train param, Dropping bad and constant columns: [snow_drift:idx, elevation:m]\n",
      "\n",
      "\n",
      "14:34:56.305: _train param, Dropping bad and constant columns: [snow_drift:idx, elevation:m]\n",
      "\n",
      "██████\n",
      "14:35:56.778: _train param, Dropping bad and constant columns: [snow_drift:idx, elevation:m]\n",
      "\n",
      "███\n",
      "14:36:27.931: _train param, Dropping bad and constant columns: [snow_drift:idx, elevation:m]\n",
      "\n",
      "███\n",
      "14:37:51.668: _train param, Dropping bad and constant columns: [snow_drift:idx, elevation:m]\n",
      "\n",
      "\n",
      "14:38:17.828: _train param, Dropping bad and constant columns: [snow_drift:idx, elevation:m]\n",
      "\n",
      "██\n",
      "14:38:49.220: _train param, Dropping bad and constant columns: [snow_drift:idx, elevation:m]\n",
      "\n",
      "█\n",
      "14:39:24.930: _train param, Dropping bad and constant columns: [snow_drift:idx, elevation:m]\n",
      "\n",
      "██\n",
      "14:39:53.853: _train param, Dropping bad and constant columns: [snow_drift:idx, elevation:m]\n",
      "\n",
      "███\n",
      "14:41:43.628: _train param, Dropping unused columns: [snow_drift:idx, elevation:m]\n",
      "14:41:46.276: _train param, Dropping unused columns: [snow_drift:idx, elevation:m]\n",
      "\n",
      "█████████████████████████████████████████| (done) 100%\n"
     ]
    },
    {
     "data": {
      "text/html": [
       "<pre style='margin: 1em 0 1em 0;'>Model Details\n",
       "=============\n",
       "H2OStackedEnsembleEstimator : Stacked Ensemble\n",
       "Model Key: StackedEnsemble_AllModels_1_AutoML_3_20231013_143359\n",
       "</pre>\n",
       "<div style='margin: 1em 0 1em 0;'>\n",
       "<style>\n",
       "\n",
       "#h2o-table-7.h2o-container {\n",
       "  overflow-x: auto;\n",
       "}\n",
       "#h2o-table-7 .h2o-table {\n",
       "  /* width: 100%; */\n",
       "  margin-top: 1em;\n",
       "  margin-bottom: 1em;\n",
       "}\n",
       "#h2o-table-7 .h2o-table caption {\n",
       "  white-space: nowrap;\n",
       "  caption-side: top;\n",
       "  text-align: left;\n",
       "  /* margin-left: 1em; */\n",
       "  margin: 0;\n",
       "  font-size: larger;\n",
       "}\n",
       "#h2o-table-7 .h2o-table thead {\n",
       "  white-space: nowrap; \n",
       "  position: sticky;\n",
       "  top: 0;\n",
       "  box-shadow: 0 -1px inset;\n",
       "}\n",
       "#h2o-table-7 .h2o-table tbody {\n",
       "  overflow: auto;\n",
       "}\n",
       "#h2o-table-7 .h2o-table th,\n",
       "#h2o-table-7 .h2o-table td {\n",
       "  text-align: right;\n",
       "  /* border: 1px solid; */\n",
       "}\n",
       "#h2o-table-7 .h2o-table tr:nth-child(even) {\n",
       "  /* background: #F5F5F5 */\n",
       "}\n",
       "\n",
       "</style>      \n",
       "<div id=\"h2o-table-7\" class=\"h2o-container\">\n",
       "  <table class=\"h2o-table\">\n",
       "    <caption>Model Summary for Stacked Ensemble: </caption>\n",
       "    <thead><tr><th>key</th>\n",
       "<th>value</th></tr></thead>\n",
       "    <tbody><tr><td>Stacking strategy</td>\n",
       "<td>cross_validation</td></tr>\n",
       "<tr><td>Number of base models (used / total)</td>\n",
       "<td>7/10</td></tr>\n",
       "<tr><td># GBM base models (used / total)</td>\n",
       "<td>3/4</td></tr>\n",
       "<tr><td># XGBoost base models (used / total)</td>\n",
       "<td>3/3</td></tr>\n",
       "<tr><td># DRF base models (used / total)</td>\n",
       "<td>1/2</td></tr>\n",
       "<tr><td># GLM base models (used / total)</td>\n",
       "<td>0/1</td></tr>\n",
       "<tr><td>Metalearner algorithm</td>\n",
       "<td>GLM</td></tr>\n",
       "<tr><td>Metalearner fold assignment scheme</td>\n",
       "<td>Random</td></tr>\n",
       "<tr><td>Metalearner nfolds</td>\n",
       "<td>5</td></tr>\n",
       "<tr><td>Metalearner fold_column</td>\n",
       "<td>None</td></tr>\n",
       "<tr><td>Custom metalearner hyperparameters</td>\n",
       "<td>None</td></tr></tbody>\n",
       "  </table>\n",
       "</div>\n",
       "</div>\n",
       "<div style='margin: 1em 0 1em 0;'><pre style='margin: 1em 0 1em 0;'>ModelMetricsRegressionGLM: stackedensemble\n",
       "** Reported on train data. **\n",
       "\n",
       "MSE: 507.34852318971025\n",
       "RMSE: 22.524398397953057\n",
       "MAE: 9.908485010017126\n",
       "RMSLE: NaN\n",
       "Mean Residual Deviance: 507.34852318971025\n",
       "R^2: 0.9814354174604738\n",
       "Null degrees of freedom: 10030\n",
       "Residual degrees of freedom: 10023\n",
       "Null deviance: 274143380.90187585\n",
       "Residual deviance: 5089213.0361159835\n",
       "AIC: 90969.83189593369</pre></div>\n",
       "<div style='margin: 1em 0 1em 0;'><pre style='margin: 1em 0 1em 0;'>ModelMetricsRegressionGLM: stackedensemble\n",
       "** Reported on cross-validation data. **\n",
       "\n",
       "MSE: 2445.4689533102746\n",
       "RMSE: 49.45168301797498\n",
       "MAE: 20.215653807279224\n",
       "RMSLE: NaN\n",
       "Mean Residual Deviance: 2445.4689533102746\n",
       "R^2: 0.9111200631239825\n",
       "Null degrees of freedom: 26070\n",
       "Residual degrees of freedom: 26063\n",
       "Null deviance: 717346563.5905138\n",
       "Residual deviance: 63755821.081752166\n",
       "AIC: 277410.0312394778</pre></div>\n",
       "<div style='margin: 1em 0 1em 0;'>\n",
       "<style>\n",
       "\n",
       "#h2o-table-8.h2o-container {\n",
       "  overflow-x: auto;\n",
       "}\n",
       "#h2o-table-8 .h2o-table {\n",
       "  /* width: 100%; */\n",
       "  margin-top: 1em;\n",
       "  margin-bottom: 1em;\n",
       "}\n",
       "#h2o-table-8 .h2o-table caption {\n",
       "  white-space: nowrap;\n",
       "  caption-side: top;\n",
       "  text-align: left;\n",
       "  /* margin-left: 1em; */\n",
       "  margin: 0;\n",
       "  font-size: larger;\n",
       "}\n",
       "#h2o-table-8 .h2o-table thead {\n",
       "  white-space: nowrap; \n",
       "  position: sticky;\n",
       "  top: 0;\n",
       "  box-shadow: 0 -1px inset;\n",
       "}\n",
       "#h2o-table-8 .h2o-table tbody {\n",
       "  overflow: auto;\n",
       "}\n",
       "#h2o-table-8 .h2o-table th,\n",
       "#h2o-table-8 .h2o-table td {\n",
       "  text-align: right;\n",
       "  /* border: 1px solid; */\n",
       "}\n",
       "#h2o-table-8 .h2o-table tr:nth-child(even) {\n",
       "  /* background: #F5F5F5 */\n",
       "}\n",
       "\n",
       "</style>      \n",
       "<div id=\"h2o-table-8\" class=\"h2o-container\">\n",
       "  <table class=\"h2o-table\">\n",
       "    <caption>Cross-Validation Metrics Summary: </caption>\n",
       "    <thead><tr><th></th>\n",
       "<th>mean</th>\n",
       "<th>sd</th>\n",
       "<th>cv_1_valid</th>\n",
       "<th>cv_2_valid</th>\n",
       "<th>cv_3_valid</th>\n",
       "<th>cv_4_valid</th>\n",
       "<th>cv_5_valid</th></tr></thead>\n",
       "    <tbody><tr><td>mae</td>\n",
       "<td>20.18808</td>\n",
       "<td>0.6876864</td>\n",
       "<td>20.363865</td>\n",
       "<td>20.099636</td>\n",
       "<td>20.331858</td>\n",
       "<td>19.122377</td>\n",
       "<td>21.022665</td></tr>\n",
       "<tr><td>mean_residual_deviance</td>\n",
       "<td>2444.6592</td>\n",
       "<td>169.27321</td>\n",
       "<td>2609.5178</td>\n",
       "<td>2408.734</td>\n",
       "<td>2421.1755</td>\n",
       "<td>2191.8926</td>\n",
       "<td>2591.9758</td></tr>\n",
       "<tr><td>mse</td>\n",
       "<td>2444.6592</td>\n",
       "<td>169.27321</td>\n",
       "<td>2609.5178</td>\n",
       "<td>2408.734</td>\n",
       "<td>2421.1755</td>\n",
       "<td>2191.8926</td>\n",
       "<td>2591.9758</td></tr>\n",
       "<tr><td>null_deviance</td>\n",
       "<td>143469312.0000000</td>\n",
       "<td>3339033.0</td>\n",
       "<td>140358304.0000000</td>\n",
       "<td>146601136.0000000</td>\n",
       "<td>142437776.0000000</td>\n",
       "<td>147405056.0000000</td>\n",
       "<td>140544304.0000000</td></tr>\n",
       "<tr><td>r2</td>\n",
       "<td>0.9110091</td>\n",
       "<td>0.0080008</td>\n",
       "<td>0.9032298</td>\n",
       "<td>0.9154716</td>\n",
       "<td>0.9107598</td>\n",
       "<td>0.9219898</td>\n",
       "<td>0.9035944</td></tr>\n",
       "<tr><td>residual_deviance</td>\n",
       "<td>12745711.0000000</td>\n",
       "<td>869262.44</td>\n",
       "<td>13579931.0000000</td>\n",
       "<td>12390527.0000000</td>\n",
       "<td>12711171.0000000</td>\n",
       "<td>11498668.0000000</td>\n",
       "<td>13548258.0000000</td></tr>\n",
       "<tr><td>rmse</td>\n",
       "<td>49.41937</td>\n",
       "<td>1.7267085</td>\n",
       "<td>51.08344</td>\n",
       "<td>49.078854</td>\n",
       "<td>49.20544</td>\n",
       "<td>46.81765</td>\n",
       "<td>50.911453</td></tr>\n",
       "<tr><td>rmsle</td>\n",
       "<td>nan</td>\n",
       "<td>0.0</td>\n",
       "<td>nan</td>\n",
       "<td>nan</td>\n",
       "<td>nan</td>\n",
       "<td>nan</td>\n",
       "<td>nan</td></tr></tbody>\n",
       "  </table>\n",
       "</div>\n",
       "</div><pre style=\"font-size: smaller; margin: 1em 0 0 0;\">\n",
       "\n",
       "[tips]\n",
       "Use `model.explain()` to inspect the model.\n",
       "--\n",
       "Use `h2o.display.toggle_user_tips()` to switch on/off this section.</pre>"
      ],
      "text/plain": [
       "Model Details\n",
       "=============\n",
       "H2OStackedEnsembleEstimator : Stacked Ensemble\n",
       "Model Key: StackedEnsemble_AllModels_1_AutoML_3_20231013_143359\n",
       "\n",
       "\n",
       "Model Summary for Stacked Ensemble: \n",
       "key                                   value\n",
       "------------------------------------  ----------------\n",
       "Stacking strategy                     cross_validation\n",
       "Number of base models (used / total)  7/10\n",
       "# GBM base models (used / total)      3/4\n",
       "# XGBoost base models (used / total)  3/3\n",
       "# DRF base models (used / total)      1/2\n",
       "# GLM base models (used / total)      0/1\n",
       "Metalearner algorithm                 GLM\n",
       "Metalearner fold assignment scheme    Random\n",
       "Metalearner nfolds                    5\n",
       "Metalearner fold_column\n",
       "Custom metalearner hyperparameters    None\n",
       "\n",
       "ModelMetricsRegressionGLM: stackedensemble\n",
       "** Reported on train data. **\n",
       "\n",
       "MSE: 507.34852318971025\n",
       "RMSE: 22.524398397953057\n",
       "MAE: 9.908485010017126\n",
       "RMSLE: NaN\n",
       "Mean Residual Deviance: 507.34852318971025\n",
       "R^2: 0.9814354174604738\n",
       "Null degrees of freedom: 10030\n",
       "Residual degrees of freedom: 10023\n",
       "Null deviance: 274143380.90187585\n",
       "Residual deviance: 5089213.0361159835\n",
       "AIC: 90969.83189593369\n",
       "\n",
       "ModelMetricsRegressionGLM: stackedensemble\n",
       "** Reported on cross-validation data. **\n",
       "\n",
       "MSE: 2445.4689533102746\n",
       "RMSE: 49.45168301797498\n",
       "MAE: 20.215653807279224\n",
       "RMSLE: NaN\n",
       "Mean Residual Deviance: 2445.4689533102746\n",
       "R^2: 0.9111200631239825\n",
       "Null degrees of freedom: 26070\n",
       "Residual degrees of freedom: 26063\n",
       "Null deviance: 717346563.5905138\n",
       "Residual deviance: 63755821.081752166\n",
       "AIC: 277410.0312394778\n",
       "\n",
       "Cross-Validation Metrics Summary: \n",
       "                        mean         sd           cv_1_valid    cv_2_valid    cv_3_valid    cv_4_valid    cv_5_valid\n",
       "----------------------  -----------  -----------  ------------  ------------  ------------  ------------  ------------\n",
       "mae                     20.1881      0.687686     20.3639       20.0996       20.3319       19.1224       21.0227\n",
       "mean_residual_deviance  2444.66      169.273      2609.52       2408.73       2421.18       2191.89       2591.98\n",
       "mse                     2444.66      169.273      2609.52       2408.73       2421.18       2191.89       2591.98\n",
       "null_deviance           1.43469e+08  3.33903e+06  1.40358e+08   1.46601e+08   1.42438e+08   1.47405e+08   1.40544e+08\n",
       "r2                      0.911009     0.00800075   0.90323       0.915472      0.91076       0.92199       0.903594\n",
       "residual_deviance       1.27457e+07  869262       1.35799e+07   1.23905e+07   1.27112e+07   1.14987e+07   1.35483e+07\n",
       "rmse                    49.4194      1.72671      51.0834       49.0789       49.2054       46.8177       50.9115\n",
       "rmsle                   nan          0            nan           nan           nan           nan           nan\n",
       "\n",
       "[tips]\n",
       "Use `model.explain()` to inspect the model.\n",
       "--\n",
       "Use `h2o.display.toggle_user_tips()` to switch on/off this section."
      ]
     },
     "execution_count": 96,
     "metadata": {},
     "output_type": "execute_result"
    }
   ],
   "source": [
    "# Running fit/training on train set with cross validation n=5\n",
    "aml = H2OAutoML(max_models = 10, seed = 1, sort_metric='MAE')\n",
    "aml.train(x = x, y = y, training_frame = df_train_c)"
   ]
  },
  {
   "cell_type": "code",
   "execution_count": null,
   "metadata": {
    "id": "9bAeAi_7wiX3"
   },
   "outputs": [],
   "source": [
    "lb = aml.leaderboard"
   ]
  },
  {
   "cell_type": "code",
   "execution_count": null,
   "metadata": {
    "id": "zXZl2HIowiX4",
    "outputId": "53a0ccc0-40b0-4ea6-906e-f1987987b86c"
   },
   "outputs": [
    {
     "data": {
      "text/html": [
       "<table class='dataframe'>\n",
       "<thead>\n",
       "<tr><th>model_id                                               </th><th style=\"text-align: right;\">   rmse</th><th style=\"text-align: right;\">    mse</th><th style=\"text-align: right;\">    mae</th><th style=\"text-align: right;\">     rmsle</th><th style=\"text-align: right;\">  mean_residual_deviance</th></tr>\n",
       "</thead>\n",
       "<tbody>\n",
       "<tr><td>StackedEnsemble_AllModels_1_AutoML_3_20231013_143359   </td><td style=\"text-align: right;\">49.4517</td><td style=\"text-align: right;\">2445.47</td><td style=\"text-align: right;\">20.2157</td><td style=\"text-align: right;\">nan       </td><td style=\"text-align: right;\">                 2445.47</td></tr>\n",
       "<tr><td>StackedEnsemble_BestOfFamily_1_AutoML_3_20231013_143359</td><td style=\"text-align: right;\">49.7852</td><td style=\"text-align: right;\">2478.57</td><td style=\"text-align: right;\">20.4908</td><td style=\"text-align: right;\">nan       </td><td style=\"text-align: right;\">                 2478.57</td></tr>\n",
       "<tr><td>GBM_4_AutoML_3_20231013_143359                         </td><td style=\"text-align: right;\">50.0604</td><td style=\"text-align: right;\">2506.05</td><td style=\"text-align: right;\">20.3921</td><td style=\"text-align: right;\">nan       </td><td style=\"text-align: right;\">                 2506.05</td></tr>\n",
       "<tr><td>GBM_3_AutoML_3_20231013_143359                         </td><td style=\"text-align: right;\">50.4273</td><td style=\"text-align: right;\">2542.91</td><td style=\"text-align: right;\">20.6946</td><td style=\"text-align: right;\">nan       </td><td style=\"text-align: right;\">                 2542.91</td></tr>\n",
       "<tr><td>GBM_2_AutoML_3_20231013_143359                         </td><td style=\"text-align: right;\">50.9945</td><td style=\"text-align: right;\">2600.44</td><td style=\"text-align: right;\">21.1176</td><td style=\"text-align: right;\">nan       </td><td style=\"text-align: right;\">                 2600.44</td></tr>\n",
       "<tr><td>DRF_1_AutoML_3_20231013_143359                         </td><td style=\"text-align: right;\">51.367 </td><td style=\"text-align: right;\">2638.57</td><td style=\"text-align: right;\">21.069 </td><td style=\"text-align: right;\">  0.803061</td><td style=\"text-align: right;\">                 2638.57</td></tr>\n",
       "<tr><td>XRT_1_AutoML_3_20231013_143359                         </td><td style=\"text-align: right;\">51.6421</td><td style=\"text-align: right;\">2666.91</td><td style=\"text-align: right;\">21.0775</td><td style=\"text-align: right;\">  0.801535</td><td style=\"text-align: right;\">                 2666.91</td></tr>\n",
       "<tr><td>GBM_1_AutoML_3_20231013_143359                         </td><td style=\"text-align: right;\">53.1647</td><td style=\"text-align: right;\">2826.48</td><td style=\"text-align: right;\">22.0016</td><td style=\"text-align: right;\">nan       </td><td style=\"text-align: right;\">                 2826.48</td></tr>\n",
       "<tr><td>XGBoost_3_AutoML_3_20231013_143359                     </td><td style=\"text-align: right;\">53.3664</td><td style=\"text-align: right;\">2847.97</td><td style=\"text-align: right;\">22.6101</td><td style=\"text-align: right;\">nan       </td><td style=\"text-align: right;\">                 2847.97</td></tr>\n",
       "<tr><td>XGBoost_1_AutoML_3_20231013_143359                     </td><td style=\"text-align: right;\">54.6772</td><td style=\"text-align: right;\">2989.6 </td><td style=\"text-align: right;\">22.356 </td><td style=\"text-align: right;\">nan       </td><td style=\"text-align: right;\">                 2989.6 </td></tr>\n",
       "</tbody>\n",
       "</table><pre style='font-size: smaller; margin-bottom: 1em;'>[10 rows x 6 columns]</pre>"
      ],
      "text/plain": [
       "model_id                                                    rmse      mse      mae       rmsle    mean_residual_deviance\n",
       "-------------------------------------------------------  -------  -------  -------  ----------  ------------------------\n",
       "StackedEnsemble_AllModels_1_AutoML_3_20231013_143359     49.4517  2445.47  20.2157  nan                          2445.47\n",
       "StackedEnsemble_BestOfFamily_1_AutoML_3_20231013_143359  49.7852  2478.57  20.4908  nan                          2478.57\n",
       "GBM_4_AutoML_3_20231013_143359                           50.0604  2506.05  20.3921  nan                          2506.05\n",
       "GBM_3_AutoML_3_20231013_143359                           50.4273  2542.91  20.6946  nan                          2542.91\n",
       "GBM_2_AutoML_3_20231013_143359                           50.9945  2600.44  21.1176  nan                          2600.44\n",
       "DRF_1_AutoML_3_20231013_143359                           51.367   2638.57  21.069     0.803061                   2638.57\n",
       "XRT_1_AutoML_3_20231013_143359                           51.6421  2666.91  21.0775    0.801535                   2666.91\n",
       "GBM_1_AutoML_3_20231013_143359                           53.1647  2826.48  22.0016  nan                          2826.48\n",
       "XGBoost_3_AutoML_3_20231013_143359                       53.3664  2847.97  22.6101  nan                          2847.97\n",
       "XGBoost_1_AutoML_3_20231013_143359                       54.6772  2989.6   22.356   nan                          2989.6\n",
       "[10 rows x 6 columns]\n"
      ]
     },
     "execution_count": 98,
     "metadata": {},
     "output_type": "execute_result"
    }
   ],
   "source": [
    "# Showing best perforimg models\n",
    "lb.head()"
   ]
  },
  {
   "cell_type": "code",
   "execution_count": null,
   "metadata": {
    "id": "1fQ2KTAlwiX4",
    "outputId": "6d9a8454-e5d0-4b95-a155-7cd5d4462d18"
   },
   "outputs": [
    {
     "name": "stdout",
     "output_type": "stream",
     "text": [
      "stackedensemble prediction progress: |███████████████████████████████████████████| (done) 100%\n"
     ]
    }
   ],
   "source": [
    "df_pred_c = aml.predict(df_test_c)"
   ]
  },
  {
   "cell_type": "code",
   "execution_count": null,
   "metadata": {
    "id": "ZubvYLWLwiX4"
   },
   "outputs": [],
   "source": [
    "df_pred_c = h2o.as_list(df_pred_c)"
   ]
  },
  {
   "cell_type": "code",
   "execution_count": null,
   "metadata": {
    "id": "z4hSPGIlwiX4"
   },
   "outputs": [],
   "source": [
    "df_pred_c['time'] = X_test_estimated_c.index\n",
    "df_pred_c['location'] = ['C' for i in df_pred_c.index]\n",
    "df_pred_c.reset_index(inplace = True)\n",
    "df_pred_c = df_pred_c[['index', 'time', 'predict', 'location']]\n",
    "df_pred_c.columns = ['id', 'time', 'prediction', 'location']\n",
    "df_pred_c\n",
    "\n",
    "df_pred_c['prediction'] = df_pred_c['prediction'].apply(lambda x: pos(x))"
   ]
  },
  {
   "cell_type": "code",
   "execution_count": null,
   "metadata": {
    "id": "Hb58GV8qwiX5",
    "outputId": "cfe001c0-1b4f-4571-f1b4-2a4f2aa5e0a0"
   },
   "outputs": [
    {
     "data": {
      "text/plain": [
       "<Axes: >"
      ]
     },
     "execution_count": 102,
     "metadata": {},
     "output_type": "execute_result"
    },
    {
     "data": {
      "image/png": "[encoded data removed]",
      "text/plain": [
       "<Figure size 640x480 with 1 Axes>"
      ]
     },
     "metadata": {},
     "output_type": "display_data"
    }
   ],
   "source": [
    "df_pred_c.prediction.plot()"
   ]
  },
  {
   "cell_type": "code",
   "execution_count": null,
   "metadata": {
    "id": "bPQIhqQBwiX5",
    "outputId": "0553aded-0d08-4a2d-e94b-654f24f119bd"
   },
   "outputs": [
    {
     "data": {
      "text/html": [
       "<div>\n",
       "<style scoped>\n",
       "    .dataframe tbody tr th:only-of-type {\n",
       "        vertical-align: middle;\n",
       "    }\n",
       "\n",
       "    .dataframe tbody tr th {\n",
       "        vertical-align: top;\n",
       "    }\n",
       "\n",
       "    .dataframe thead th {\n",
       "        text-align: right;\n",
       "    }\n",
       "</style>\n",
       "<table border=\"1\" class=\"dataframe\">\n",
       "  <thead>\n",
       "    <tr style=\"text-align: right;\">\n",
       "      <th></th>\n",
       "      <th>id</th>\n",
       "      <th>time</th>\n",
       "      <th>prediction</th>\n",
       "      <th>location</th>\n",
       "    </tr>\n",
       "  </thead>\n",
       "  <tbody>\n",
       "    <tr>\n",
       "      <th>0</th>\n",
       "      <td>0</td>\n",
       "      <td>2023-05-01 00:00:00</td>\n",
       "      <td>0.000000</td>\n",
       "      <td>C</td>\n",
       "    </tr>\n",
       "    <tr>\n",
       "      <th>1</th>\n",
       "      <td>1</td>\n",
       "      <td>2023-05-01 01:00:00</td>\n",
       "      <td>0.000000</td>\n",
       "      <td>C</td>\n",
       "    </tr>\n",
       "    <tr>\n",
       "      <th>2</th>\n",
       "      <td>2</td>\n",
       "      <td>2023-05-01 02:00:00</td>\n",
       "      <td>0.000000</td>\n",
       "      <td>C</td>\n",
       "    </tr>\n",
       "    <tr>\n",
       "      <th>3</th>\n",
       "      <td>3</td>\n",
       "      <td>2023-05-01 03:00:00</td>\n",
       "      <td>4.959303</td>\n",
       "      <td>C</td>\n",
       "    </tr>\n",
       "    <tr>\n",
       "      <th>4</th>\n",
       "      <td>4</td>\n",
       "      <td>2023-05-01 04:00:00</td>\n",
       "      <td>35.121101</td>\n",
       "      <td>C</td>\n",
       "    </tr>\n",
       "    <tr>\n",
       "      <th>...</th>\n",
       "      <td>...</td>\n",
       "      <td>...</td>\n",
       "      <td>...</td>\n",
       "      <td>...</td>\n",
       "    </tr>\n",
       "    <tr>\n",
       "      <th>715</th>\n",
       "      <td>715</td>\n",
       "      <td>2023-07-03 19:00:00</td>\n",
       "      <td>48.284091</td>\n",
       "      <td>C</td>\n",
       "    </tr>\n",
       "    <tr>\n",
       "      <th>716</th>\n",
       "      <td>716</td>\n",
       "      <td>2023-07-03 20:00:00</td>\n",
       "      <td>14.366757</td>\n",
       "      <td>C</td>\n",
       "    </tr>\n",
       "    <tr>\n",
       "      <th>717</th>\n",
       "      <td>717</td>\n",
       "      <td>2023-07-03 21:00:00</td>\n",
       "      <td>0.000000</td>\n",
       "      <td>C</td>\n",
       "    </tr>\n",
       "    <tr>\n",
       "      <th>718</th>\n",
       "      <td>718</td>\n",
       "      <td>2023-07-03 22:00:00</td>\n",
       "      <td>0.000000</td>\n",
       "      <td>C</td>\n",
       "    </tr>\n",
       "    <tr>\n",
       "      <th>719</th>\n",
       "      <td>719</td>\n",
       "      <td>2023-07-03 23:00:00</td>\n",
       "      <td>0.000000</td>\n",
       "      <td>C</td>\n",
       "    </tr>\n",
       "  </tbody>\n",
       "</table>\n",
       "<p>720 rows × 4 columns</p>\n",
       "</div>"
      ],
      "text/plain": [
       "      id                time  prediction location\n",
       "0      0 2023-05-01 00:00:00    0.000000        C\n",
       "1      1 2023-05-01 01:00:00    0.000000        C\n",
       "2      2 2023-05-01 02:00:00    0.000000        C\n",
       "3      3 2023-05-01 03:00:00    4.959303        C\n",
       "4      4 2023-05-01 04:00:00   35.121101        C\n",
       "..   ...                 ...         ...      ...\n",
       "715  715 2023-07-03 19:00:00   48.284091        C\n",
       "716  716 2023-07-03 20:00:00   14.366757        C\n",
       "717  717 2023-07-03 21:00:00    0.000000        C\n",
       "718  718 2023-07-03 22:00:00    0.000000        C\n",
       "719  719 2023-07-03 23:00:00    0.000000        C\n",
       "\n",
       "[720 rows x 4 columns]"
      ]
     },
     "execution_count": 106,
     "metadata": {},
     "output_type": "execute_result"
    }
   ],
   "source": [
    "df_pred_c"
   ]
  },
  {
   "cell_type": "markdown",
   "metadata": {
    "id": "uXcrUUmXwiX5"
   },
   "source": [
    "# Gather the predictions"
   ]
  },
  {
   "cell_type": "code",
   "execution_count": null,
   "metadata": {
    "id": "6OFOmeRtwiX5",
    "outputId": "fab9a3d5-937c-439f-8055-9cb89fe8a8f3"
   },
   "outputs": [
    {
     "data": {
      "text/html": [
       "<div>\n",
       "<style scoped>\n",
       "    .dataframe tbody tr th:only-of-type {\n",
       "        vertical-align: middle;\n",
       "    }\n",
       "\n",
       "    .dataframe tbody tr th {\n",
       "        vertical-align: top;\n",
       "    }\n",
       "\n",
       "    .dataframe thead th {\n",
       "        text-align: right;\n",
       "    }\n",
       "</style>\n",
       "<table border=\"1\" class=\"dataframe\">\n",
       "  <thead>\n",
       "    <tr style=\"text-align: right;\">\n",
       "      <th></th>\n",
       "      <th>id</th>\n",
       "      <th>prediction</th>\n",
       "    </tr>\n",
       "  </thead>\n",
       "  <tbody>\n",
       "    <tr>\n",
       "      <th>0</th>\n",
       "      <td>0</td>\n",
       "      <td>0.000000</td>\n",
       "    </tr>\n",
       "    <tr>\n",
       "      <th>1</th>\n",
       "      <td>1</td>\n",
       "      <td>0.000000</td>\n",
       "    </tr>\n",
       "    <tr>\n",
       "      <th>2</th>\n",
       "      <td>2</td>\n",
       "      <td>0.000000</td>\n",
       "    </tr>\n",
       "    <tr>\n",
       "      <th>3</th>\n",
       "      <td>3</td>\n",
       "      <td>45.240170</td>\n",
       "    </tr>\n",
       "    <tr>\n",
       "      <th>4</th>\n",
       "      <td>4</td>\n",
       "      <td>307.730949</td>\n",
       "    </tr>\n",
       "    <tr>\n",
       "      <th>...</th>\n",
       "      <td>...</td>\n",
       "      <td>...</td>\n",
       "    </tr>\n",
       "    <tr>\n",
       "      <th>995</th>\n",
       "      <td>995</td>\n",
       "      <td>473.915536</td>\n",
       "    </tr>\n",
       "    <tr>\n",
       "      <th>996</th>\n",
       "      <td>996</td>\n",
       "      <td>314.140514</td>\n",
       "    </tr>\n",
       "    <tr>\n",
       "      <th>997</th>\n",
       "      <td>997</td>\n",
       "      <td>265.527121</td>\n",
       "    </tr>\n",
       "    <tr>\n",
       "      <th>998</th>\n",
       "      <td>998</td>\n",
       "      <td>184.088674</td>\n",
       "    </tr>\n",
       "    <tr>\n",
       "      <th>999</th>\n",
       "      <td>999</td>\n",
       "      <td>124.858548</td>\n",
       "    </tr>\n",
       "  </tbody>\n",
       "</table>\n",
       "<p>1000 rows × 2 columns</p>\n",
       "</div>"
      ],
      "text/plain": [
       "      id  prediction\n",
       "0      0    0.000000\n",
       "1      1    0.000000\n",
       "2      2    0.000000\n",
       "3      3   45.240170\n",
       "4      4  307.730949\n",
       "..   ...         ...\n",
       "995  995  473.915536\n",
       "996  996  314.140514\n",
       "997  997  265.527121\n",
       "998  998  184.088674\n",
       "999  999  124.858548\n",
       "\n",
       "[1000 rows x 2 columns]"
      ]
     },
     "execution_count": 108,
     "metadata": {},
     "output_type": "execute_result"
    }
   ],
   "source": [
    "df_pred_total = pd.concat([df_pred_a, df_pred_b, df_pred_c], axis = 0)\n",
    "df_pred_final = pd.DataFrame({'id' : [i for i in range(2160)], 'prediction' : df_pred_total['prediction'].to_numpy()})\n",
    "#df_pred_total\n",
    "df_pred_final[0:1000]"
   ]
  },
  {
   "cell_type": "code",
   "execution_count": null,
   "metadata": {
    "id": "nsEVf7r6wiX6"
   },
   "outputs": [],
   "source": [
    "df_pred_final.to_csv('submission_23.csv', index=False)"
   ]
  }
 ],
 "metadata": {
  "colab": {
   "provenance": []
  },
  "kernelspec": {
   "display_name": "Python 3 (ipykernel)",
   "language": "python",
   "name": "python3"
  },
  "language_info": {
   "codemirror_mode": {
    "name": "ipython",
    "version": 3
   },
   "file_extension": ".py",
   "mimetype": "text/x-python",
   "name": "python",
   "nbconvert_exporter": "python",
   "pygments_lexer": "ipython3",
   "version": "3.9.18"
  },
  "toc-autonumbering": true,
  "toc-showtags": false
 },
 "nbformat": 4,
 "nbformat_minor": 4
}
