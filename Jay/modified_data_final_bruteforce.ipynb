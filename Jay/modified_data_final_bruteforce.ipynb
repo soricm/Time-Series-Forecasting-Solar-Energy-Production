{
 "cells": [
  {
   "cell_type": "code",
   "execution_count": 1,
   "metadata": {},
   "outputs": [],
   "source": [
    "import pandas as pd\n",
    "import numpy as np"
   ]
  },
  {
   "cell_type": "code",
   "execution_count": 3,
   "metadata": {},
   "outputs": [
    {
     "name": "stdout",
     "output_type": "stream",
     "text": [
      "0     2.114286\n",
      "1     3.409951\n",
      "2     0.262603\n",
      "3     0.238877\n",
      "4     0.403515\n",
      "5     0.276977\n",
      "6     0.000000\n",
      "7     3.853642\n",
      "8     0.522129\n",
      "9     0.341064\n",
      "10    0.036591\n",
      "11    0.018975\n",
      "12    2.601000\n",
      "13    4.000000\n",
      "14    0.000000\n",
      "15    0.000000\n",
      "16    0.000000\n",
      "17    0.000000\n",
      "18    0.000000\n",
      "19    4.000000\n",
      "20    0.000000\n",
      "21    3.840421\n",
      "22    0.000000\n",
      "23    0.000000\n",
      "24    3.840333\n",
      "25    3.839583\n",
      "26    0.000000\n",
      "27    0.000000\n",
      "28    3.314000\n",
      "29    3.838570\n",
      "30         NaN\n",
      "31    0.000000\n",
      "32         NaN\n",
      "33   -0.000000\n",
      "34    0.057971\n",
      "35    0.611578\n",
      "36    0.645628\n",
      "37    0.000000\n",
      "38    3.778108\n",
      "39    3.792000\n",
      "40    1.673342\n",
      "41    0.605263\n",
      "42   -0.715447\n",
      "43    0.344086\n",
      "44   -0.000000\n",
      "Name: 1, dtype: float64\n",
      "45\n",
      "[[0.00000e+00 1.93600e+01]\n",
      " [1.00000e+00 2.51020e+02]\n",
      " [2.00000e+00 2.63780e+02]\n",
      " ...\n",
      " [1.63450e+04 1.04764e+03]\n",
      " [1.63460e+04 5.14140e+02]\n",
      " [1.63470e+04 3.87200e+01]]\n"
     ]
    },
    {
     "ename": "ValueError",
     "evalue": "all the input array dimensions except for the concatenation axis must match exactly, but along dimension 1, the array at index 0 has size 16347 and the array at index 1 has size 2",
     "output_type": "error",
     "traceback": [
      "\u001b[1;31m---------------------------------------------------------------------------\u001b[0m",
      "\u001b[1;31mValueError\u001b[0m                                Traceback (most recent call last)",
      "\u001b[1;32mc:\\Users\\itsja\\OneDrive\\Desktop\\ml task2\\data\\A\\modified_data_final_bruteforce.ipynb Cell 2\u001b[0m line \u001b[0;36m1\n\u001b[0;32m      <a href='vscode-notebook-cell:/c%3A/Users/itsja/OneDrive/Desktop/ml%20task2/data/A/modified_data_final_bruteforce.ipynb#W1sZmlsZQ%3D%3D?line=8'>9</a>\u001b[0m \u001b[39mfor\u001b[39;00m el \u001b[39min\u001b[39;00m a:\n\u001b[0;32m     <a href='vscode-notebook-cell:/c%3A/Users/itsja/OneDrive/Desktop/ml%20task2/data/A/modified_data_final_bruteforce.ipynb#W1sZmlsZQ%3D%3D?line=9'>10</a>\u001b[0m     \u001b[39m#print(el)\u001b[39;00m\n\u001b[0;32m     <a href='vscode-notebook-cell:/c%3A/Users/itsja/OneDrive/Desktop/ml%20task2/data/A/modified_data_final_bruteforce.ipynb#W1sZmlsZQ%3D%3D?line=10'>11</a>\u001b[0m     k\u001b[39m=\u001b[39mel[\u001b[39m2\u001b[39m:]\n\u001b[1;32m---> <a href='vscode-notebook-cell:/c%3A/Users/itsja/OneDrive/Desktop/ml%20task2/data/A/modified_data_final_bruteforce.ipynb#W1sZmlsZQ%3D%3D?line=11'>12</a>\u001b[0m     p\u001b[39m=\u001b[39mnp\u001b[39m.\u001b[39;49mcorrcoef(k,Y_modified)\n\u001b[0;32m     <a href='vscode-notebook-cell:/c%3A/Users/itsja/OneDrive/Desktop/ml%20task2/data/A/modified_data_final_bruteforce.ipynb#W1sZmlsZQ%3D%3D?line=12'>13</a>\u001b[0m     \u001b[39mprint\u001b[39m(p[\u001b[39m0\u001b[39m][\u001b[39m1\u001b[39m])\n",
      "File \u001b[1;32m<__array_function__ internals>:200\u001b[0m, in \u001b[0;36mcorrcoef\u001b[1;34m(*args, **kwargs)\u001b[0m\n",
      "File \u001b[1;32mc:\\Users\\itsja\\AppData\\Local\\Programs\\Python\\Python311\\Lib\\site-packages\\numpy\\lib\\function_base.py:2846\u001b[0m, in \u001b[0;36mcorrcoef\u001b[1;34m(x, y, rowvar, bias, ddof, dtype)\u001b[0m\n\u001b[0;32m   2842\u001b[0m \u001b[39mif\u001b[39;00m bias \u001b[39mis\u001b[39;00m \u001b[39mnot\u001b[39;00m np\u001b[39m.\u001b[39m_NoValue \u001b[39mor\u001b[39;00m ddof \u001b[39mis\u001b[39;00m \u001b[39mnot\u001b[39;00m np\u001b[39m.\u001b[39m_NoValue:\n\u001b[0;32m   2843\u001b[0m     \u001b[39m# 2015-03-15, 1.10\u001b[39;00m\n\u001b[0;32m   2844\u001b[0m     warnings\u001b[39m.\u001b[39mwarn(\u001b[39m'\u001b[39m\u001b[39mbias and ddof have no effect and are deprecated\u001b[39m\u001b[39m'\u001b[39m,\n\u001b[0;32m   2845\u001b[0m                   \u001b[39mDeprecationWarning\u001b[39;00m, stacklevel\u001b[39m=\u001b[39m\u001b[39m3\u001b[39m)\n\u001b[1;32m-> 2846\u001b[0m c \u001b[39m=\u001b[39m cov(x, y, rowvar, dtype\u001b[39m=\u001b[39;49mdtype)\n\u001b[0;32m   2847\u001b[0m \u001b[39mtry\u001b[39;00m:\n\u001b[0;32m   2848\u001b[0m     d \u001b[39m=\u001b[39m diag(c)\n",
      "File \u001b[1;32m<__array_function__ internals>:200\u001b[0m, in \u001b[0;36mcov\u001b[1;34m(*args, **kwargs)\u001b[0m\n",
      "File \u001b[1;32mc:\\Users\\itsja\\AppData\\Local\\Programs\\Python\\Python311\\Lib\\site-packages\\numpy\\lib\\function_base.py:2640\u001b[0m, in \u001b[0;36mcov\u001b[1;34m(m, y, rowvar, bias, ddof, fweights, aweights, dtype)\u001b[0m\n\u001b[0;32m   2638\u001b[0m     \u001b[39mif\u001b[39;00m \u001b[39mnot\u001b[39;00m rowvar \u001b[39mand\u001b[39;00m y\u001b[39m.\u001b[39mshape[\u001b[39m0\u001b[39m] \u001b[39m!=\u001b[39m \u001b[39m1\u001b[39m:\n\u001b[0;32m   2639\u001b[0m         y \u001b[39m=\u001b[39m y\u001b[39m.\u001b[39mT\n\u001b[1;32m-> 2640\u001b[0m     X \u001b[39m=\u001b[39m np\u001b[39m.\u001b[39;49mconcatenate((X, y), axis\u001b[39m=\u001b[39;49m\u001b[39m0\u001b[39;49m)\n\u001b[0;32m   2642\u001b[0m \u001b[39mif\u001b[39;00m ddof \u001b[39mis\u001b[39;00m \u001b[39mNone\u001b[39;00m:\n\u001b[0;32m   2643\u001b[0m     \u001b[39mif\u001b[39;00m bias \u001b[39m==\u001b[39m \u001b[39m0\u001b[39m:\n",
      "File \u001b[1;32m<__array_function__ internals>:200\u001b[0m, in \u001b[0;36mconcatenate\u001b[1;34m(*args, **kwargs)\u001b[0m\n",
      "\u001b[1;31mValueError\u001b[0m: all the input array dimensions except for the concatenation axis must match exactly, but along dimension 1, the array at index 0 has size 16347 and the array at index 1 has size 2"
     ]
    }
   ],
   "source": [
    "\n",
    "a=pd.read_csv('efficient_data.csv')\n",
    "Y_modified=pd.read_csv('Y_modified.csv')\n",
    "print(a['1'])\n",
    "a=np.array(a)\n",
    "Y_modified=np.array(Y_modified)\n",
    "print(len(a))\n",
    "print(Y_modified)\n",
    "corcoef_modified=[]\n",
    "for el in a:\n",
    "    #print(el)\n",
    "    k=el[2:]\n",
    "    p=np.corrcoef(k,Y_modified)\n",
    "    print(p[0][1])"
   ]
  }
 ],
 "metadata": {
  "kernelspec": {
   "display_name": "Python 3",
   "language": "python",
   "name": "python3"
  },
  "language_info": {
   "codemirror_mode": {
    "name": "ipython",
    "version": 3
   },
   "file_extension": ".py",
   "mimetype": "text/x-python",
   "name": "python",
   "nbconvert_exporter": "python",
   "pygments_lexer": "ipython3",
   "version": "3.11.4"
  },
  "orig_nbformat": 4
 },
 "nbformat": 4,
 "nbformat_minor": 2
}
