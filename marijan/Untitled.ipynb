{
 "cells": [
  {
   "cell_type": "code",
   "execution_count": 2,
   "id": "402ea790-4a2c-44ed-8461-ac04ab96595b",
   "metadata": {
    "tags": []
   },
   "outputs": [],
   "source": [
    "import pandas as pd"
   ]
  },
  {
   "cell_type": "code",
   "execution_count": 5,
   "id": "c1bfc528-98eb-4a0d-b41f-6c86d574324a",
   "metadata": {
    "tags": []
   },
   "outputs": [
    {
     "data": {
      "text/plain": [
       "'/Users/marijansoric/Documents/GitHub/Solar-Energy-Production-Forecasting/marijan'"
      ]
     },
     "execution_count": 5,
     "metadata": {},
     "output_type": "execute_result"
    }
   ],
   "source": [
    "pwd"
   ]
  },
  {
   "cell_type": "code",
   "execution_count": 7,
   "id": "e90b3a15-0574-4e74-9726-1b9d4e23792c",
   "metadata": {
    "tags": []
   },
   "outputs": [],
   "source": [
    "y_8 = pd.read_csv('Submission_6.csv')\n",
    "y_3 = pd.read_csv('Solar Forecast.csv')"
   ]
  },
  {
   "cell_type": "code",
   "execution_count": 12,
   "id": "95f8cd1d-88e9-4319-9ad8-23afb6cb1866",
   "metadata": {
    "tags": []
   },
   "outputs": [
    {
     "data": {
      "text/plain": [
       "id              0.000000\n",
       "prediction    131.680977\n",
       "dtype: float64"
      ]
     },
     "execution_count": 12,
     "metadata": {},
     "output_type": "execute_result"
    }
   ],
   "source": [
    "(y_8-y_3).abs().mean()"
   ]
  }
 ],
 "metadata": {
  "kernelspec": {
   "display_name": "Python 3 (ipykernel)",
   "language": "python",
   "name": "python3"
  },
  "language_info": {
   "codemirror_mode": {
    "name": "ipython",
    "version": 3
   },
   "file_extension": ".py",
   "mimetype": "text/x-python",
   "name": "python",
   "nbconvert_exporter": "python",
   "pygments_lexer": "ipython3",
   "version": "3.9.18"
  }
 },
 "nbformat": 4,
 "nbformat_minor": 5
}
